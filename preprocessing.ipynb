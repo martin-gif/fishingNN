{
 "cells": [
  {
   "cell_type": "code",
   "execution_count": 1,
   "outputs": [
    {
     "name": "stderr",
     "output_type": "stream",
     "text": [
      "/Users/marvinraschke/.local/share/virtualenvs/fishingNN-j66MMPMR/lib/python3.9/site-packages/urllib3/__init__.py:35: NotOpenSSLWarning: urllib3 v2 only supports OpenSSL 1.1.1+, currently the 'ssl' module is compiled with 'LibreSSL 2.8.3'. See: https://github.com/urllib3/urllib3/issues/3020\n",
      "  warnings.warn(\n"
     ]
    }
   ],
   "source": [
    "from main import train\n",
    "\n",
    "import pandas as pd\n",
    "import geopandas as gpd\n",
    "import matplotlib.pyplot as plt\n",
    "import numpy as np"
   ],
   "metadata": {
    "collapsed": false,
    "ExecuteTime": {
     "end_time": "2024-04-30T11:51:41.844336Z",
     "start_time": "2024-04-30T11:51:38.547866Z"
    }
   },
   "id": "8673f38136b40864"
  },
  {
   "cell_type": "code",
   "execution_count": 2,
   "outputs": [
    {
     "name": "stdout",
     "output_type": "stream",
     "text": [
      "(<tf.Tensor: shape=(4, 4, 8), dtype=float32, numpy=\n",
      "array([[[0.162818  , 0.09911083, 0.14434406, 1.        , 0.5130299 ,\n",
      "         0.23086226, 0.1184466 , 0.95255464],\n",
      "        [0.16203523, 0.09911083, 0.14434406, 1.        , 0.5130343 ,\n",
      "         0.23089406, 0.12038834, 0.9525548 ],\n",
      "        [0.15851271, 0.09901466, 0.14376973, 1.        , 0.51304233,\n",
      "         0.23095098, 0.12038834, 0.95255506],\n",
      "        [0.15870841, 0.0989827 , 0.1435785 , 1.        , 0.51304466,\n",
      "         0.23096657, 0.12038834, 0.95255506]],\n",
      "\n",
      "       [[0.35831705, 0.08959322, 0.17050485, 1.        , 0.49282148,\n",
      "         0.42859674, 0.07961165, 0.9131603 ],\n",
      "        [0.34892368, 0.08897112, 0.1695726 , 1.        , 0.49220476,\n",
      "         0.42859578, 0.08252427, 0.9131641 ],\n",
      "        [0.36477494, 0.08831316, 0.1685997 , 1.        , 0.49157917,\n",
      "         0.42857978, 0.08446602, 0.913168  ],\n",
      "        [0.3506849 , 0.08737328, 0.16772063, 1.        , 0.49047172,\n",
      "         0.42856705, 0.08349515, 0.9131753 ]],\n",
      "\n",
      "       [[0.35029355, 0.01089134, 0.02093454, 1.        , 0.62285584,\n",
      "         0.49405333, 0.01067961, 0.912881  ],\n",
      "        [0.32485324, 0.01075789, 0.02085166, 1.        , 0.62284845,\n",
      "         0.4940547 , 0.01262136, 0.91288155],\n",
      "        [0.36399215, 0.01075789, 0.02085166, 1.        , 0.6228371 ,\n",
      "         0.4940558 , 0.00776699, 0.91288227],\n",
      "        [0.36007828, 0.01069144, 0.02080642, 1.        , 0.6228262 ,\n",
      "         0.49405587, 0.00970874, 0.9128829 ]],\n",
      "\n",
      "       [[0.24109589, 0.00222693, 0.00568241, 1.        , 0.5901302 ,\n",
      "         0.45329177, 0.00582524, 0.9976032 ],\n",
      "        [0.22015655, 0.00222693, 0.00568241, 1.        , 0.5901267 ,\n",
      "         0.45330054, 0.00679612, 0.9976038 ],\n",
      "        [0.27455968, 0.00222693, 0.00568241, 1.        , 0.5901231 ,\n",
      "         0.45330796, 0.01262136, 0.9976045 ],\n",
      "        [0.26105675, 0.00226284, 0.00571369, 1.        , 0.59011745,\n",
      "         0.45331517, 0.01067961, 0.9976051 ]]], dtype=float32)>, <tf.Tensor: shape=(4, 1, 8), dtype=float32, numpy=\n",
      "array([[[0.15988258, 0.09839314, 0.14115661, 1.        , 0.5130954 ,\n",
      "         0.23132077, 0.12038834, 0.9525566 ]],\n",
      "\n",
      "       [[0.34540117, 0.08670158, 0.16748679, 1.        , 0.48979005,\n",
      "         0.42856938, 0.0776699 , 0.9131796 ]],\n",
      "\n",
      "       [[0.34637964, 0.01069144, 0.02080642, 1.        , 0.62282056,\n",
      "         0.49405554, 0.00776699, 0.91288346]],\n",
      "\n",
      "       [[0.26164383, 0.00233438, 0.00593664, 1.        , 0.5901119 ,\n",
      "         0.4533231 , 0.00582524, 0.9976058 ]]], dtype=float32)>)\n",
      "Epoch 1/20\n",
      "\u001B[1m3000/3000\u001B[0m \u001B[32m━━━━━━━━━━━━━━━━━━━━\u001B[0m\u001B[37m\u001B[0m \u001B[1m4s\u001B[0m 859us/step - Precision: 0.9961 - Recall: 0.3838 - cosine: 0.9530 - loss: 0.0288\n",
      "Epoch 2/20\n"
     ]
    },
    {
     "name": "stderr",
     "output_type": "stream",
     "text": [
      "2024-04-30 13:51:46.917177: W tensorflow/core/framework/local_rendezvous.cc:404] Local rendezvous is aborting with status: OUT_OF_RANGE: End of sequence\n",
      "\t [[{{node IteratorGetNext}}]]\n",
      "/Applications/Xcode.app/Contents/Developer/Library/Frameworks/Python3.framework/Versions/3.9/lib/python3.9/contextlib.py:135: UserWarning: Your input ran out of data; interrupting training. Make sure that your dataset or generator can generate at least `steps_per_epoch * epochs` batches. You may need to use the `.repeat()` function when building your dataset.\n",
      "  self.gen.throw(type, value, traceback)\n"
     ]
    },
    {
     "name": "stdout",
     "output_type": "stream",
     "text": [
      "\u001B[1m3000/3000\u001B[0m \u001B[32m━━━━━━━━━━━━━━━━━━━━\u001B[0m\u001B[37m\u001B[0m \u001B[1m3s\u001B[0m 882us/step - Precision: 1.0000 - Recall: 0.3955 - cosine: 0.9924 - loss: 0.0051\n",
      "Epoch 3/20\n"
     ]
    },
    {
     "name": "stderr",
     "output_type": "stream",
     "text": [
      "2024-04-30 13:51:50.408996: W tensorflow/core/framework/local_rendezvous.cc:404] Local rendezvous is aborting with status: OUT_OF_RANGE: End of sequence\n",
      "\t [[{{node IteratorGetNext}}]]\n"
     ]
    },
    {
     "name": "stdout",
     "output_type": "stream",
     "text": [
      "\u001B[1m3000/3000\u001B[0m \u001B[32m━━━━━━━━━━━━━━━━━━━━\u001B[0m\u001B[37m\u001B[0m \u001B[1m3s\u001B[0m 829us/step - Precision: 1.0000 - Recall: 0.4002 - cosine: 0.9930 - loss: 0.0048\n",
      "Epoch 4/20\n"
     ]
    },
    {
     "name": "stderr",
     "output_type": "stream",
     "text": [
      "2024-04-30 13:51:53.728873: W tensorflow/core/framework/local_rendezvous.cc:404] Local rendezvous is aborting with status: OUT_OF_RANGE: End of sequence\n",
      "\t [[{{node IteratorGetNext}}]]\n"
     ]
    },
    {
     "name": "stdout",
     "output_type": "stream",
     "text": [
      "\u001B[1m3000/3000\u001B[0m \u001B[32m━━━━━━━━━━━━━━━━━━━━\u001B[0m\u001B[37m\u001B[0m \u001B[1m3s\u001B[0m 827us/step - Precision: 0.9999 - Recall: 0.4036 - cosine: 0.9933 - loss: 0.0045\n",
      "Epoch 5/20\n"
     ]
    },
    {
     "name": "stderr",
     "output_type": "stream",
     "text": [
      "2024-04-30 13:51:57.030387: W tensorflow/core/framework/local_rendezvous.cc:404] Local rendezvous is aborting with status: OUT_OF_RANGE: End of sequence\n",
      "\t [[{{node IteratorGetNext}}]]\n"
     ]
    },
    {
     "name": "stdout",
     "output_type": "stream",
     "text": [
      "\u001B[1m3000/3000\u001B[0m \u001B[32m━━━━━━━━━━━━━━━━━━━━\u001B[0m\u001B[37m\u001B[0m \u001B[1m3s\u001B[0m 821us/step - Precision: 1.0000 - Recall: 0.4033 - cosine: 0.9938 - loss: 0.0042\n",
      "Epoch 6/20\n"
     ]
    },
    {
     "name": "stderr",
     "output_type": "stream",
     "text": [
      "2024-04-30 13:52:00.335493: W tensorflow/core/framework/local_rendezvous.cc:404] Local rendezvous is aborting with status: OUT_OF_RANGE: End of sequence\n",
      "\t [[{{node IteratorGetNext}}]]\n"
     ]
    },
    {
     "name": "stdout",
     "output_type": "stream",
     "text": [
      "\u001B[1m3000/3000\u001B[0m \u001B[32m━━━━━━━━━━━━━━━━━━━━\u001B[0m\u001B[37m\u001B[0m \u001B[1m3s\u001B[0m 819us/step - Precision: 1.0000 - Recall: 0.4018 - cosine: 0.9938 - loss: 0.0041\n",
      "Epoch 7/20\n"
     ]
    },
    {
     "name": "stderr",
     "output_type": "stream",
     "text": [
      "2024-04-30 13:52:03.649177: W tensorflow/core/framework/local_rendezvous.cc:404] Local rendezvous is aborting with status: OUT_OF_RANGE: End of sequence\n",
      "\t [[{{node IteratorGetNext}}]]\n"
     ]
    },
    {
     "name": "stdout",
     "output_type": "stream",
     "text": [
      "\u001B[1m3000/3000\u001B[0m \u001B[32m━━━━━━━━━━━━━━━━━━━━\u001B[0m\u001B[37m\u001B[0m \u001B[1m3s\u001B[0m 822us/step - Precision: 1.0000 - Recall: 0.4026 - cosine: 0.9940 - loss: 0.0040\n",
      "Epoch 8/20\n"
     ]
    },
    {
     "name": "stderr",
     "output_type": "stream",
     "text": [
      "2024-04-30 13:52:06.944108: W tensorflow/core/framework/local_rendezvous.cc:404] Local rendezvous is aborting with status: OUT_OF_RANGE: End of sequence\n",
      "\t [[{{node IteratorGetNext}}]]\n"
     ]
    },
    {
     "name": "stdout",
     "output_type": "stream",
     "text": [
      "\u001B[1m3000/3000\u001B[0m \u001B[32m━━━━━━━━━━━━━━━━━━━━\u001B[0m\u001B[37m\u001B[0m \u001B[1m3s\u001B[0m 818us/step - Precision: 1.0000 - Recall: 0.4015 - cosine: 0.9939 - loss: 0.0041\n",
      "Epoch 9/20\n"
     ]
    },
    {
     "name": "stderr",
     "output_type": "stream",
     "text": [
      "2024-04-30 13:52:10.268575: W tensorflow/core/framework/local_rendezvous.cc:404] Local rendezvous is aborting with status: OUT_OF_RANGE: End of sequence\n",
      "\t [[{{node IteratorGetNext}}]]\n"
     ]
    },
    {
     "name": "stdout",
     "output_type": "stream",
     "text": [
      "\u001B[1m3000/3000\u001B[0m \u001B[32m━━━━━━━━━━━━━━━━━━━━\u001B[0m\u001B[37m\u001B[0m \u001B[1m3s\u001B[0m 819us/step - Precision: 1.0000 - Recall: 0.4038 - cosine: 0.9936 - loss: 0.0043\n",
      "Epoch 10/20\n"
     ]
    },
    {
     "name": "stderr",
     "output_type": "stream",
     "text": [
      "2024-04-30 13:52:13.554542: W tensorflow/core/framework/local_rendezvous.cc:404] Local rendezvous is aborting with status: OUT_OF_RANGE: End of sequence\n",
      "\t [[{{node IteratorGetNext}}]]\n"
     ]
    },
    {
     "name": "stdout",
     "output_type": "stream",
     "text": [
      "\u001B[1m3000/3000\u001B[0m \u001B[32m━━━━━━━━━━━━━━━━━━━━\u001B[0m\u001B[37m\u001B[0m \u001B[1m3s\u001B[0m 840us/step - Precision: 0.9999 - Recall: 0.4045 - cosine: 0.9941 - loss: 0.0040\n",
      "Epoch 11/20\n"
     ]
    },
    {
     "name": "stderr",
     "output_type": "stream",
     "text": [
      "2024-04-30 13:52:16.883603: W tensorflow/core/framework/local_rendezvous.cc:404] Local rendezvous is aborting with status: OUT_OF_RANGE: End of sequence\n",
      "\t [[{{node IteratorGetNext}}]]\n"
     ]
    },
    {
     "name": "stdout",
     "output_type": "stream",
     "text": [
      "\u001B[1m3000/3000\u001B[0m \u001B[32m━━━━━━━━━━━━━━━━━━━━\u001B[0m\u001B[37m\u001B[0m \u001B[1m3s\u001B[0m 816us/step - Precision: 1.0000 - Recall: 0.4038 - cosine: 0.9941 - loss: 0.0039\n",
      "Epoch 12/20\n"
     ]
    },
    {
     "name": "stderr",
     "output_type": "stream",
     "text": [
      "2024-04-30 13:52:20.192302: W tensorflow/core/framework/local_rendezvous.cc:404] Local rendezvous is aborting with status: OUT_OF_RANGE: End of sequence\n",
      "\t [[{{node IteratorGetNext}}]]\n"
     ]
    },
    {
     "name": "stdout",
     "output_type": "stream",
     "text": [
      "\u001B[1m3000/3000\u001B[0m \u001B[32m━━━━━━━━━━━━━━━━━━━━\u001B[0m\u001B[37m\u001B[0m \u001B[1m3s\u001B[0m 816us/step - Precision: 1.0000 - Recall: 0.4063 - cosine: 0.9942 - loss: 0.0039\n",
      "Epoch 13/20\n"
     ]
    },
    {
     "name": "stderr",
     "output_type": "stream",
     "text": [
      "2024-04-30 13:52:23.489644: W tensorflow/core/framework/local_rendezvous.cc:404] Local rendezvous is aborting with status: OUT_OF_RANGE: End of sequence\n",
      "\t [[{{node IteratorGetNext}}]]\n"
     ]
    },
    {
     "name": "stdout",
     "output_type": "stream",
     "text": [
      "\u001B[1m3000/3000\u001B[0m \u001B[32m━━━━━━━━━━━━━━━━━━━━\u001B[0m\u001B[37m\u001B[0m \u001B[1m3s\u001B[0m 820us/step - Precision: 1.0000 - Recall: 0.4044 - cosine: 0.9936 - loss: 0.0043\n",
      "Epoch 14/20\n"
     ]
    },
    {
     "name": "stderr",
     "output_type": "stream",
     "text": [
      "2024-04-30 13:52:26.720798: W tensorflow/core/framework/local_rendezvous.cc:404] Local rendezvous is aborting with status: OUT_OF_RANGE: End of sequence\n",
      "\t [[{{node IteratorGetNext}}]]\n"
     ]
    },
    {
     "name": "stdout",
     "output_type": "stream",
     "text": [
      "\u001B[1m3000/3000\u001B[0m \u001B[32m━━━━━━━━━━━━━━━━━━━━\u001B[0m\u001B[37m\u001B[0m \u001B[1m3s\u001B[0m 816us/step - Precision: 0.9999 - Recall: 0.4050 - cosine: 0.9943 - loss: 0.0038\n",
      "Epoch 15/20\n"
     ]
    },
    {
     "name": "stderr",
     "output_type": "stream",
     "text": [
      "2024-04-30 13:52:30.039634: W tensorflow/core/framework/local_rendezvous.cc:404] Local rendezvous is aborting with status: OUT_OF_RANGE: End of sequence\n",
      "\t [[{{node IteratorGetNext}}]]\n"
     ]
    },
    {
     "name": "stdout",
     "output_type": "stream",
     "text": [
      "\u001B[1m3000/3000\u001B[0m \u001B[32m━━━━━━━━━━━━━━━━━━━━\u001B[0m\u001B[37m\u001B[0m \u001B[1m3s\u001B[0m 822us/step - Precision: 0.9999 - Recall: 0.4062 - cosine: 0.9945 - loss: 0.0037\n",
      "Epoch 16/20\n"
     ]
    },
    {
     "name": "stderr",
     "output_type": "stream",
     "text": [
      "2024-04-30 13:52:33.326205: W tensorflow/core/framework/local_rendezvous.cc:404] Local rendezvous is aborting with status: OUT_OF_RANGE: End of sequence\n",
      "\t [[{{node IteratorGetNext}}]]\n"
     ]
    },
    {
     "name": "stdout",
     "output_type": "stream",
     "text": [
      "\u001B[1m3000/3000\u001B[0m \u001B[32m━━━━━━━━━━━━━━━━━━━━\u001B[0m\u001B[37m\u001B[0m \u001B[1m3s\u001B[0m 821us/step - Precision: 1.0000 - Recall: 0.4061 - cosine: 0.9939 - loss: 0.0041\n",
      "Epoch 17/20\n"
     ]
    },
    {
     "name": "stderr",
     "output_type": "stream",
     "text": [
      "2024-04-30 13:52:36.666402: W tensorflow/core/framework/local_rendezvous.cc:404] Local rendezvous is aborting with status: OUT_OF_RANGE: End of sequence\n",
      "\t [[{{node IteratorGetNext}}]]\n"
     ]
    },
    {
     "name": "stdout",
     "output_type": "stream",
     "text": [
      "\u001B[1m3000/3000\u001B[0m \u001B[32m━━━━━━━━━━━━━━━━━━━━\u001B[0m\u001B[37m\u001B[0m \u001B[1m3s\u001B[0m 821us/step - Precision: 1.0000 - Recall: 0.4065 - cosine: 0.9943 - loss: 0.0039\n",
      "Epoch 18/20\n"
     ]
    },
    {
     "name": "stderr",
     "output_type": "stream",
     "text": [
      "2024-04-30 13:52:39.994860: W tensorflow/core/framework/local_rendezvous.cc:404] Local rendezvous is aborting with status: OUT_OF_RANGE: End of sequence\n",
      "\t [[{{node IteratorGetNext}}]]\n"
     ]
    },
    {
     "name": "stdout",
     "output_type": "stream",
     "text": [
      "\u001B[1m3000/3000\u001B[0m \u001B[32m━━━━━━━━━━━━━━━━━━━━\u001B[0m\u001B[37m\u001B[0m \u001B[1m3s\u001B[0m 820us/step - Precision: 1.0000 - Recall: 0.4065 - cosine: 0.9941 - loss: 0.0040\n",
      "Epoch 19/20\n"
     ]
    },
    {
     "name": "stderr",
     "output_type": "stream",
     "text": [
      "2024-04-30 13:52:43.298153: W tensorflow/core/framework/local_rendezvous.cc:404] Local rendezvous is aborting with status: OUT_OF_RANGE: End of sequence\n",
      "\t [[{{node IteratorGetNext}}]]\n"
     ]
    },
    {
     "name": "stdout",
     "output_type": "stream",
     "text": [
      "\u001B[1m3000/3000\u001B[0m \u001B[32m━━━━━━━━━━━━━━━━━━━━\u001B[0m\u001B[37m\u001B[0m \u001B[1m3s\u001B[0m 825us/step - Precision: 1.0000 - Recall: 0.4057 - cosine: 0.9940 - loss: 0.0040\n",
      "Epoch 20/20\n"
     ]
    },
    {
     "name": "stderr",
     "output_type": "stream",
     "text": [
      "2024-04-30 13:52:46.582764: W tensorflow/core/framework/local_rendezvous.cc:404] Local rendezvous is aborting with status: OUT_OF_RANGE: End of sequence\n",
      "\t [[{{node IteratorGetNext}}]]\n"
     ]
    },
    {
     "name": "stdout",
     "output_type": "stream",
     "text": [
      "\u001B[1m3000/3000\u001B[0m \u001B[32m━━━━━━━━━━━━━━━━━━━━\u001B[0m\u001B[37m\u001B[0m \u001B[1m3s\u001B[0m 830us/step - Precision: 1.0000 - Recall: 0.4064 - cosine: 0.9942 - loss: 0.0040\n"
     ]
    },
    {
     "name": "stderr",
     "output_type": "stream",
     "text": [
      "2024-04-30 13:52:49.903253: W tensorflow/core/framework/local_rendezvous.cc:404] Local rendezvous is aborting with status: OUT_OF_RANGE: End of sequence\n",
      "\t [[{{node IteratorGetNext}}]]\n"
     ]
    }
   ],
   "source": [
    "model_list, data = train()"
   ],
   "metadata": {
    "collapsed": false,
    "ExecuteTime": {
     "end_time": "2024-04-30T11:52:49.925353Z",
     "start_time": "2024-04-30T11:51:41.854366Z"
    }
   },
   "id": "3a3f49f5483bed93"
  },
  {
   "cell_type": "code",
   "execution_count": 3,
   "outputs": [],
   "source": [
    "trips = next(iter(data))"
   ],
   "metadata": {
    "collapsed": false,
    "ExecuteTime": {
     "end_time": "2024-04-30T11:52:50.730392Z",
     "start_time": "2024-04-30T11:52:49.909893Z"
    }
   },
   "id": "3e1d0d54470a9f31"
  },
  {
   "cell_type": "code",
   "execution_count": 4,
   "outputs": [
    {
     "name": "stdout",
     "output_type": "stream",
     "text": [
      "[[0.6450098  0.17522095 0.24461642 1.         0.48994365 0.21982431\n",
      "  0.00485437 0.9551452 ]\n",
      " [0.54990214 0.17522095 0.24461642 1.         0.48994428 0.21982357\n",
      "  0.00485437 0.9551453 ]\n",
      " [0.5146771  0.17522095 0.24461642 1.         0.48994452 0.21982324\n",
      "  0.00485437 0.9551455 ]\n",
      " [0.3516634  0.17522095 0.24461642 1.         0.48994437 0.21982211\n",
      "  0.0038835  0.95514566]]\n",
      "Lable: [[0.56457925 0.17522095 0.24461642 1.         0.4899452  0.21981943\n",
      "  0.0038835  0.95514613]]\n",
      "Prediction: [[0.4372568  0.18131498 0.24745528 0.9970263  0.5001302  0.22542185\n",
      "  0.03755143 0.9639941 ]]\n"
     ]
    }
   ],
   "source": [
    "model = model_list[0]\n",
    "x,y = trips\n",
    "# print(x)\n",
    "x = x.numpy()[0]\n",
    "y = y.numpy()[0]\n",
    "print(x)\n",
    "print(\"Lable:\",y)\n",
    "x_for_model = np.expand_dims(x, axis=0)\n",
    "prediction = model(x_for_model)\n",
    "print(\"Prediction:\",prediction.numpy()[0])\n",
    "\n",
    "\n",
    "\n"
   ],
   "metadata": {
    "collapsed": false,
    "ExecuteTime": {
     "end_time": "2024-04-30T11:52:50.750012Z",
     "start_time": "2024-04-30T11:52:50.731416Z"
    }
   },
   "id": "ed65f7983d80dc28"
  }
 ],
 "metadata": {
  "kernelspec": {
   "display_name": "Python 3",
   "language": "python",
   "name": "python3"
  },
  "language_info": {
   "codemirror_mode": {
    "name": "ipython",
    "version": 2
   },
   "file_extension": ".py",
   "mimetype": "text/x-python",
   "name": "python",
   "nbconvert_exporter": "python",
   "pygments_lexer": "ipython2",
   "version": "2.7.6"
  }
 },
 "nbformat": 4,
 "nbformat_minor": 5
}
