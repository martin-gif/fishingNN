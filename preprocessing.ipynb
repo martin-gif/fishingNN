{
 "cells": [
  {
   "cell_type": "code",
   "execution_count": 1,
   "outputs": [
    {
     "name": "stderr",
     "output_type": "stream",
     "text": [
      "/Users/marvinraschke/.local/share/virtualenvs/fishingNN-j66MMPMR/lib/python3.9/site-packages/urllib3/__init__.py:35: NotOpenSSLWarning: urllib3 v2 only supports OpenSSL 1.1.1+, currently the 'ssl' module is compiled with 'LibreSSL 2.8.3'. See: https://github.com/urllib3/urllib3/issues/3020\n",
      "  warnings.warn(\n"
     ]
    }
   ],
   "source": [
    "from main import train\n",
    "\n",
    "import pandas as pd\n",
    "import geopandas as gpd\n",
    "import matplotlib.pyplot as plt\n",
    "import numpy as np\n",
    "import tensorflow as tf\n",
    "import keras\n",
    "\n",
    "from sklearn.metrics import confusion_matrix"
   ],
   "metadata": {
    "collapsed": false,
    "ExecuteTime": {
     "end_time": "2024-05-23T09:58:44.595884Z",
     "start_time": "2024-05-23T09:58:41.323658Z"
    }
   },
   "id": "8673f38136b40864"
  },
  {
   "cell_type": "code",
   "execution_count": null,
   "outputs": [],
   "source": [
    "model_list, data = train()"
   ],
   "metadata": {
    "collapsed": false
   },
   "id": "3a3f49f5483bed93"
  },
  {
   "cell_type": "code",
   "execution_count": 3,
   "outputs": [],
   "source": [
    "trips = next(iter(data))"
   ],
   "metadata": {
    "collapsed": false,
    "ExecuteTime": {
     "end_time": "2024-05-23T09:59:30.038505Z",
     "start_time": "2024-05-23T09:59:26.131597Z"
    }
   },
   "id": "3e1d0d54470a9f31"
  },
  {
   "cell_type": "code",
   "execution_count": 6,
   "outputs": [],
   "source": [
    "def transform_dataset_dict_to_list_with_X_Y(dictonary, lable: str):\n",
    "    tensor_list = []\n",
    "    lable_list = []\n",
    "    for key, value in dictonary.items():\n",
    "        if key == lable:\n",
    "            lable_list.append(value)\n",
    "        else:\n",
    "            tensor_list.append(value)\n",
    "\n",
    "    combined_tensor = tf.concat(tensor_list, axis=-1)\n",
    "    lable_tensor = tf.concat(lable_list, axis=-1)\n",
    "\n",
    "    return (combined_tensor, lable_tensor)"
   ],
   "metadata": {
    "collapsed": false,
    "ExecuteTime": {
     "end_time": "2024-05-23T09:59:38.967681Z",
     "start_time": "2024-05-23T09:59:38.963998Z"
    }
   },
   "id": "dab9351c1eaaea9b"
  },
  {
   "cell_type": "code",
   "execution_count": 35,
   "outputs": [
    {
     "name": "stdout",
     "output_type": "stream",
     "text": [
      "\u001B[1m1/1\u001B[0m \u001B[32m━━━━━━━━━━━━━━━━━━━━\u001B[0m\u001B[37m\u001B[0m \u001B[1m0s\u001B[0m 7ms/step\n",
      "\u001B[1m1/1\u001B[0m \u001B[32m━━━━━━━━━━━━━━━━━━━━\u001B[0m\u001B[37m\u001B[0m \u001B[1m0s\u001B[0m 7ms/step\n",
      "\u001B[1m1/1\u001B[0m \u001B[32m━━━━━━━━━━━━━━━━━━━━\u001B[0m\u001B[37m\u001B[0m \u001B[1m0s\u001B[0m 8ms/step\n",
      "\u001B[1m1/1\u001B[0m \u001B[32m━━━━━━━━━━━━━━━━━━━━\u001B[0m\u001B[37m\u001B[0m \u001B[1m0s\u001B[0m 8ms/step\n",
      "\u001B[1m1/1\u001B[0m \u001B[32m━━━━━━━━━━━━━━━━━━━━\u001B[0m\u001B[37m\u001B[0m \u001B[1m0s\u001B[0m 7ms/step\n",
      "\u001B[1m1/1\u001B[0m \u001B[32m━━━━━━━━━━━━━━━━━━━━\u001B[0m\u001B[37m\u001B[0m \u001B[1m0s\u001B[0m 8ms/step\n",
      "\u001B[1m1/1\u001B[0m \u001B[32m━━━━━━━━━━━━━━━━━━━━\u001B[0m\u001B[37m\u001B[0m \u001B[1m0s\u001B[0m 7ms/step\n",
      "\u001B[1m1/1\u001B[0m \u001B[32m━━━━━━━━━━━━━━━━━━━━\u001B[0m\u001B[37m\u001B[0m \u001B[1m0s\u001B[0m 8ms/step\n",
      "\u001B[1m1/1\u001B[0m \u001B[32m━━━━━━━━━━━━━━━━━━━━\u001B[0m\u001B[37m\u001B[0m \u001B[1m0s\u001B[0m 7ms/step\n",
      "\u001B[1m1/1\u001B[0m \u001B[32m━━━━━━━━━━━━━━━━━━━━\u001B[0m\u001B[37m\u001B[0m \u001B[1m0s\u001B[0m 7ms/step\n",
      "\u001B[1m1/1\u001B[0m \u001B[32m━━━━━━━━━━━━━━━━━━━━\u001B[0m\u001B[37m\u001B[0m \u001B[1m0s\u001B[0m 7ms/step\n",
      "\u001B[1m1/1\u001B[0m \u001B[32m━━━━━━━━━━━━━━━━━━━━\u001B[0m\u001B[37m\u001B[0m \u001B[1m0s\u001B[0m 8ms/step\n",
      "\u001B[1m1/1\u001B[0m \u001B[32m━━━━━━━━━━━━━━━━━━━━\u001B[0m\u001B[37m\u001B[0m \u001B[1m0s\u001B[0m 7ms/step\n",
      "\u001B[1m1/1\u001B[0m \u001B[32m━━━━━━━━━━━━━━━━━━━━\u001B[0m\u001B[37m\u001B[0m \u001B[1m0s\u001B[0m 7ms/step\n",
      "\u001B[1m1/1\u001B[0m \u001B[32m━━━━━━━━━━━━━━━━━━━━\u001B[0m\u001B[37m\u001B[0m \u001B[1m0s\u001B[0m 7ms/step\n",
      "\u001B[1m1/1\u001B[0m \u001B[32m━━━━━━━━━━━━━━━━━━━━\u001B[0m\u001B[37m\u001B[0m \u001B[1m0s\u001B[0m 8ms/step\n",
      "\u001B[1m1/1\u001B[0m \u001B[32m━━━━━━━━━━━━━━━━━━━━\u001B[0m\u001B[37m\u001B[0m \u001B[1m0s\u001B[0m 8ms/step\n",
      "\u001B[1m1/1\u001B[0m \u001B[32m━━━━━━━━━━━━━━━━━━━━\u001B[0m\u001B[37m\u001B[0m \u001B[1m0s\u001B[0m 7ms/step\n",
      "\u001B[1m1/1\u001B[0m \u001B[32m━━━━━━━━━━━━━━━━━━━━\u001B[0m\u001B[37m\u001B[0m \u001B[1m0s\u001B[0m 8ms/step\n",
      "\u001B[1m1/1\u001B[0m \u001B[32m━━━━━━━━━━━━━━━━━━━━\u001B[0m\u001B[37m\u001B[0m \u001B[1m0s\u001B[0m 8ms/step\n",
      "acc: 0.7375\n",
      "tf.Tensor(\n",
      "[[ 0  0  0  0  0  0  0]\n",
      " [ 0 11  0  0  2  0  0]\n",
      " [ 0  0  2  0  5  0 12]\n",
      " [ 0  0  1  8  0  0  0]\n",
      " [ 0  0  0  0 19  0  0]\n",
      " [ 0  0  0  0  0  9  0]\n",
      " [ 0  0  1  0  0  0 10]], shape=(7, 7), dtype=int32)\n"
     ]
    }
   ],
   "source": [
    "model = model_list[0]\n",
    "\n",
    "may_idx = 20\n",
    "lable = []\n",
    "x_pred = []\n",
    "\n",
    "for idx, batch in enumerate(data):\n",
    "    x, y = batch\n",
    "    \n",
    "    lable.extend(np.argmax(y, axis=-1)[:,0].tolist())\n",
    "    pred = model.predict(x)\n",
    "    x_pred.extend(np.argmax(pred,axis=-1)[:,0].tolist())\n",
    "    if idx >= may_idx-1: \n",
    "        break\n",
    "        \n",
    "# print(\"Lable: \\n\",lable)\n",
    "# print(\"Prediction: \\n\",x_pred)\n",
    "acc_metric = keras.metrics.Accuracy()\n",
    "acc_metric.update_state(np.array(lable),np.array(x_pred))\n",
    "print(\"acc:\", acc_metric.result().numpy())\n",
    "print(tf.math.confusion_matrix(lable,x_pred))\n"
   ],
   "metadata": {
    "collapsed": false,
    "ExecuteTime": {
     "end_time": "2024-05-23T10:14:48.372468Z",
     "start_time": "2024-05-23T10:14:43.916209Z"
    }
   },
   "id": "ed65f7983d80dc28"
  },
  {
   "cell_type": "code",
   "execution_count": null,
   "outputs": [],
   "source": [
    "from model.nn.shipType import gen_compiled_ship_type_classifier_model\n",
    "\n",
    "model = gen_compiled_ship_type_classifier_model()\n",
    "# model.add(keras.layers.Lambda(lambda x: x[:,0]))\n",
    "x_test = np.expand_dims(x,axis=0)\n",
    "pred = model.predict(x_test)\n",
    "print(pred)\n",
    "\n",
    "print(y)"
   ],
   "metadata": {
    "collapsed": false,
    "ExecuteTime": {
     "start_time": "2024-05-23T09:59:34.057855Z"
    }
   },
   "id": "2f8851844efb44ae"
  },
  {
   "cell_type": "markdown",
   "source": [
    "### Interpolate AIS Data"
   ],
   "metadata": {
    "collapsed": false
   },
   "id": "68a53c0acf8fae8"
  },
  {
   "cell_type": "code",
   "execution_count": 60,
   "outputs": [],
   "source": [
    "import pandas as pd\n",
    "from sqlalchemy import create_engine\n",
    "import matplotlib.pyplot as plt \n",
    "from statsmodels.tsa.ar_model import AutoReg\n",
    "from statsmodels.tsa.base.tsa_model import TimeSeriesModel"
   ],
   "metadata": {
    "collapsed": false,
    "ExecuteTime": {
     "end_time": "2024-05-24T10:48:08.272482Z",
     "start_time": "2024-05-24T10:48:07.689746Z"
    }
   },
   "id": "496473b3fa6eede7"
  },
  {
   "cell_type": "code",
   "execution_count": 61,
   "outputs": [],
   "source": [
    "def interpolat(newDelta: int=3600, data=None) -> TimeSeriesModel:\n",
    "    model = AutoReg(data, lags=10)\n",
    "    return model"
   ],
   "metadata": {
    "collapsed": false,
    "ExecuteTime": {
     "end_time": "2024-05-24T10:48:09.488842Z",
     "start_time": "2024-05-24T10:48:09.484236Z"
    }
   },
   "id": "e5d85f00db36cab2"
  },
  {
   "cell_type": "code",
   "execution_count": 12,
   "outputs": [],
   "source": [
    "\n",
    "df = pd.read_sql(\n",
    "    sql=f\"\"\"\n",
    "        SELECT *\n",
    "        from data\n",
    "        WHERE data.tripId = 1\n",
    "    \"\"\",\n",
    "    con=create_engine(\"sqlite:///data/data.db\"),\n",
    ")\n"
   ],
   "metadata": {
    "collapsed": false,
    "ExecuteTime": {
     "end_time": "2024-05-23T17:48:51.291698Z",
     "start_time": "2024-05-23T17:48:51.279451Z"
    }
   },
   "id": "1ecfad1471a538c4"
  },
  {
   "cell_type": "code",
   "execution_count": 64,
   "outputs": [
    {
     "name": "stdout",
     "output_type": "stream",
     "text": [
      "Eine Stunde \t 3600\n",
      "durchschritt: \t 2206\n"
     ]
    },
    {
     "ename": "KeyError",
     "evalue": "('lat', 'speed')",
     "output_type": "error",
     "traceback": [
      "\u001B[0;31m---------------------------------------------------------------------------\u001B[0m",
      "\u001B[0;31mKeyError\u001B[0m                                  Traceback (most recent call last)",
      "File \u001B[0;32m~/.local/share/virtualenvs/fishingNN-j66MMPMR/lib/python3.9/site-packages/pandas/core/indexes/base.py:3805\u001B[0m, in \u001B[0;36mIndex.get_loc\u001B[0;34m(self, key)\u001B[0m\n\u001B[1;32m   3804\u001B[0m \u001B[38;5;28;01mtry\u001B[39;00m:\n\u001B[0;32m-> 3805\u001B[0m     \u001B[38;5;28;01mreturn\u001B[39;00m \u001B[38;5;28;43mself\u001B[39;49m\u001B[38;5;241;43m.\u001B[39;49m\u001B[43m_engine\u001B[49m\u001B[38;5;241;43m.\u001B[39;49m\u001B[43mget_loc\u001B[49m\u001B[43m(\u001B[49m\u001B[43mcasted_key\u001B[49m\u001B[43m)\u001B[49m\n\u001B[1;32m   3806\u001B[0m \u001B[38;5;28;01mexcept\u001B[39;00m \u001B[38;5;167;01mKeyError\u001B[39;00m \u001B[38;5;28;01mas\u001B[39;00m err:\n",
      "File \u001B[0;32mindex.pyx:167\u001B[0m, in \u001B[0;36mpandas._libs.index.IndexEngine.get_loc\u001B[0;34m()\u001B[0m\n",
      "File \u001B[0;32mindex.pyx:196\u001B[0m, in \u001B[0;36mpandas._libs.index.IndexEngine.get_loc\u001B[0;34m()\u001B[0m\n",
      "File \u001B[0;32mpandas/_libs/hashtable_class_helper.pxi:7081\u001B[0m, in \u001B[0;36mpandas._libs.hashtable.PyObjectHashTable.get_item\u001B[0;34m()\u001B[0m\n",
      "File \u001B[0;32mpandas/_libs/hashtable_class_helper.pxi:7089\u001B[0m, in \u001B[0;36mpandas._libs.hashtable.PyObjectHashTable.get_item\u001B[0;34m()\u001B[0m\n",
      "\u001B[0;31mKeyError\u001B[0m: ('lat', 'speed')",
      "\nThe above exception was the direct cause of the following exception:\n",
      "\u001B[0;31mKeyError\u001B[0m                                  Traceback (most recent call last)",
      "Cell \u001B[0;32mIn[64], line 5\u001B[0m\n\u001B[1;32m      3\u001B[0m \u001B[38;5;28mprint\u001B[39m(\u001B[38;5;124m\"\u001B[39m\u001B[38;5;124mEine Stunde \u001B[39m\u001B[38;5;130;01m\\t\u001B[39;00m\u001B[38;5;124m\"\u001B[39m, \u001B[38;5;241m60\u001B[39m\u001B[38;5;241m*\u001B[39m\u001B[38;5;241m60\u001B[39m)\n\u001B[1;32m      4\u001B[0m \u001B[38;5;28mprint\u001B[39m(\u001B[38;5;124m\"\u001B[39m\u001B[38;5;124mdurchschritt: \u001B[39m\u001B[38;5;130;01m\\t\u001B[39;00m\u001B[38;5;124m\"\u001B[39m,\u001B[38;5;28mint\u001B[39m(timdDelt\u001B[38;5;241m.\u001B[39mmean()\u001B[38;5;241m.\u001B[39mround()))\n\u001B[0;32m----> 5\u001B[0m \u001B[38;5;28mprint\u001B[39m(\u001B[43mdf\u001B[49m\u001B[43m[\u001B[49m\u001B[38;5;124;43m\"\u001B[39;49m\u001B[38;5;124;43mlat\u001B[39;49m\u001B[38;5;124;43m\"\u001B[39;49m\u001B[43m,\u001B[49m\u001B[38;5;124;43m\"\u001B[39;49m\u001B[38;5;124;43mspeed\u001B[39;49m\u001B[38;5;124;43m\"\u001B[39;49m\u001B[43m]\u001B[49m)\n",
      "File \u001B[0;32m~/.local/share/virtualenvs/fishingNN-j66MMPMR/lib/python3.9/site-packages/pandas/core/frame.py:4102\u001B[0m, in \u001B[0;36mDataFrame.__getitem__\u001B[0;34m(self, key)\u001B[0m\n\u001B[1;32m   4100\u001B[0m \u001B[38;5;28;01mif\u001B[39;00m \u001B[38;5;28mself\u001B[39m\u001B[38;5;241m.\u001B[39mcolumns\u001B[38;5;241m.\u001B[39mnlevels \u001B[38;5;241m>\u001B[39m \u001B[38;5;241m1\u001B[39m:\n\u001B[1;32m   4101\u001B[0m     \u001B[38;5;28;01mreturn\u001B[39;00m \u001B[38;5;28mself\u001B[39m\u001B[38;5;241m.\u001B[39m_getitem_multilevel(key)\n\u001B[0;32m-> 4102\u001B[0m indexer \u001B[38;5;241m=\u001B[39m \u001B[38;5;28;43mself\u001B[39;49m\u001B[38;5;241;43m.\u001B[39;49m\u001B[43mcolumns\u001B[49m\u001B[38;5;241;43m.\u001B[39;49m\u001B[43mget_loc\u001B[49m\u001B[43m(\u001B[49m\u001B[43mkey\u001B[49m\u001B[43m)\u001B[49m\n\u001B[1;32m   4103\u001B[0m \u001B[38;5;28;01mif\u001B[39;00m is_integer(indexer):\n\u001B[1;32m   4104\u001B[0m     indexer \u001B[38;5;241m=\u001B[39m [indexer]\n",
      "File \u001B[0;32m~/.local/share/virtualenvs/fishingNN-j66MMPMR/lib/python3.9/site-packages/pandas/core/indexes/base.py:3812\u001B[0m, in \u001B[0;36mIndex.get_loc\u001B[0;34m(self, key)\u001B[0m\n\u001B[1;32m   3807\u001B[0m     \u001B[38;5;28;01mif\u001B[39;00m \u001B[38;5;28misinstance\u001B[39m(casted_key, \u001B[38;5;28mslice\u001B[39m) \u001B[38;5;129;01mor\u001B[39;00m (\n\u001B[1;32m   3808\u001B[0m         \u001B[38;5;28misinstance\u001B[39m(casted_key, abc\u001B[38;5;241m.\u001B[39mIterable)\n\u001B[1;32m   3809\u001B[0m         \u001B[38;5;129;01mand\u001B[39;00m \u001B[38;5;28many\u001B[39m(\u001B[38;5;28misinstance\u001B[39m(x, \u001B[38;5;28mslice\u001B[39m) \u001B[38;5;28;01mfor\u001B[39;00m x \u001B[38;5;129;01min\u001B[39;00m casted_key)\n\u001B[1;32m   3810\u001B[0m     ):\n\u001B[1;32m   3811\u001B[0m         \u001B[38;5;28;01mraise\u001B[39;00m InvalidIndexError(key)\n\u001B[0;32m-> 3812\u001B[0m     \u001B[38;5;28;01mraise\u001B[39;00m \u001B[38;5;167;01mKeyError\u001B[39;00m(key) \u001B[38;5;28;01mfrom\u001B[39;00m \u001B[38;5;21;01merr\u001B[39;00m\n\u001B[1;32m   3813\u001B[0m \u001B[38;5;28;01mexcept\u001B[39;00m \u001B[38;5;167;01mTypeError\u001B[39;00m:\n\u001B[1;32m   3814\u001B[0m     \u001B[38;5;66;03m# If we have a listlike key, _check_indexing_error will raise\u001B[39;00m\n\u001B[1;32m   3815\u001B[0m     \u001B[38;5;66;03m#  InvalidIndexError. Otherwise we fall through and re-raise\u001B[39;00m\n\u001B[1;32m   3816\u001B[0m     \u001B[38;5;66;03m#  the TypeError.\u001B[39;00m\n\u001B[1;32m   3817\u001B[0m     \u001B[38;5;28mself\u001B[39m\u001B[38;5;241m.\u001B[39m_check_indexing_error(key)\n",
      "\u001B[0;31mKeyError\u001B[0m: ('lat', 'speed')"
     ]
    }
   ],
   "source": [
    "timdDelt = df[\"timestamp\"]-df[\"timestamp\"].shift(periods=1)\n",
    "timdDelt = timdDelt[:]\n",
    "print(\"Eine Stunde \\t\", 60*60)\n",
    "print(\"durchschritt: \\t\",int(timdDelt.mean().round()))\n",
    "print(df[\"lat\",\"speed\"])"
   ],
   "metadata": {
    "collapsed": false,
    "ExecuteTime": {
     "end_time": "2024-05-24T10:49:15.221892Z",
     "start_time": "2024-05-24T10:49:14.557235Z"
    }
   },
   "id": "e5e334b5f8119ded"
  },
  {
   "cell_type": "code",
   "execution_count": 62,
   "outputs": [
    {
     "ename": "ValueError",
     "evalue": "Pandas data cast to numpy dtype of object. Check input data with np.asarray(data).",
     "output_type": "error",
     "traceback": [
      "\u001B[0;31m---------------------------------------------------------------------------\u001B[0m",
      "\u001B[0;31mValueError\u001B[0m                                Traceback (most recent call last)",
      "Cell \u001B[0;32mIn[62], line 9\u001B[0m\n\u001B[1;32m      6\u001B[0m timdDelt\u001B[38;5;241m.\u001B[39mplot(ax\u001B[38;5;241m=\u001B[39maxs[\u001B[38;5;241m1\u001B[39m][\u001B[38;5;241m0\u001B[39m])\n\u001B[1;32m      8\u001B[0m \u001B[38;5;66;03m# with Auto regression \u001B[39;00m\n\u001B[0;32m----> 9\u001B[0m model \u001B[38;5;241m=\u001B[39m \u001B[43minterpolat\u001B[49m\u001B[43m(\u001B[49m\u001B[43mdata\u001B[49m\u001B[38;5;241;43m=\u001B[39;49m\u001B[43mdf\u001B[49m\u001B[43m)\u001B[49m\n\u001B[1;32m     10\u001B[0m \u001B[38;5;28mprint\u001B[39m(model)\n",
      "Cell \u001B[0;32mIn[61], line 2\u001B[0m, in \u001B[0;36minterpolat\u001B[0;34m(newDelta, data)\u001B[0m\n\u001B[1;32m      1\u001B[0m \u001B[38;5;28;01mdef\u001B[39;00m \u001B[38;5;21minterpolat\u001B[39m(newDelta: \u001B[38;5;28mint\u001B[39m\u001B[38;5;241m=\u001B[39m\u001B[38;5;241m3600\u001B[39m, data\u001B[38;5;241m=\u001B[39m\u001B[38;5;28;01mNone\u001B[39;00m) \u001B[38;5;241m-\u001B[39m\u001B[38;5;241m>\u001B[39m TimeSeriesModel:\n\u001B[0;32m----> 2\u001B[0m     model \u001B[38;5;241m=\u001B[39m \u001B[43mAutoReg\u001B[49m\u001B[43m(\u001B[49m\u001B[43mdata\u001B[49m\u001B[43m,\u001B[49m\u001B[43m \u001B[49m\u001B[43mlags\u001B[49m\u001B[38;5;241;43m=\u001B[39;49m\u001B[38;5;241;43m10\u001B[39;49m\u001B[43m)\u001B[49m\n\u001B[1;32m      3\u001B[0m     \u001B[38;5;28;01mreturn\u001B[39;00m model\n",
      "File \u001B[0;32m~/.local/share/virtualenvs/fishingNN-j66MMPMR/lib/python3.9/site-packages/statsmodels/tsa/ar_model.py:210\u001B[0m, in \u001B[0;36mAutoReg.__init__\u001B[0;34m(self, endog, lags, trend, seasonal, exog, hold_back, period, missing, deterministic, old_names)\u001B[0m\n\u001B[1;32m    196\u001B[0m \u001B[38;5;28;01mdef\u001B[39;00m \u001B[38;5;21m__init__\u001B[39m(\n\u001B[1;32m    197\u001B[0m     \u001B[38;5;28mself\u001B[39m,\n\u001B[1;32m    198\u001B[0m     endog: ArrayLike1D,\n\u001B[0;32m   (...)\u001B[0m\n\u001B[1;32m    208\u001B[0m     old_names: \u001B[38;5;28mbool\u001B[39m \u001B[38;5;241m=\u001B[39m \u001B[38;5;28;01mFalse\u001B[39;00m,\n\u001B[1;32m    209\u001B[0m ):\n\u001B[0;32m--> 210\u001B[0m     \u001B[38;5;28;43msuper\u001B[39;49m\u001B[43m(\u001B[49m\u001B[43m)\u001B[49m\u001B[38;5;241;43m.\u001B[39;49m\u001B[38;5;21;43m__init__\u001B[39;49m\u001B[43m(\u001B[49m\u001B[43mendog\u001B[49m\u001B[43m,\u001B[49m\u001B[43m \u001B[49m\u001B[43mexog\u001B[49m\u001B[43m,\u001B[49m\u001B[43m \u001B[49m\u001B[38;5;28;43;01mNone\u001B[39;49;00m\u001B[43m,\u001B[49m\u001B[43m \u001B[49m\u001B[38;5;28;43;01mNone\u001B[39;49;00m\u001B[43m,\u001B[49m\u001B[43m \u001B[49m\u001B[43mmissing\u001B[49m\u001B[38;5;241;43m=\u001B[39;49m\u001B[43mmissing\u001B[49m\u001B[43m)\u001B[49m\n\u001B[1;32m    211\u001B[0m     \u001B[38;5;28mself\u001B[39m\u001B[38;5;241m.\u001B[39m_trend \u001B[38;5;241m=\u001B[39m cast(\n\u001B[1;32m    212\u001B[0m         Literal[\u001B[38;5;124m\"\u001B[39m\u001B[38;5;124mn\u001B[39m\u001B[38;5;124m\"\u001B[39m, \u001B[38;5;124m\"\u001B[39m\u001B[38;5;124mc\u001B[39m\u001B[38;5;124m\"\u001B[39m, \u001B[38;5;124m\"\u001B[39m\u001B[38;5;124mt\u001B[39m\u001B[38;5;124m\"\u001B[39m, \u001B[38;5;124m\"\u001B[39m\u001B[38;5;124mct\u001B[39m\u001B[38;5;124m\"\u001B[39m],\n\u001B[1;32m    213\u001B[0m         string_like(\n\u001B[1;32m    214\u001B[0m             trend, \u001B[38;5;124m\"\u001B[39m\u001B[38;5;124mtrend\u001B[39m\u001B[38;5;124m\"\u001B[39m, options\u001B[38;5;241m=\u001B[39m(\u001B[38;5;124m\"\u001B[39m\u001B[38;5;124mn\u001B[39m\u001B[38;5;124m\"\u001B[39m, \u001B[38;5;124m\"\u001B[39m\u001B[38;5;124mc\u001B[39m\u001B[38;5;124m\"\u001B[39m, \u001B[38;5;124m\"\u001B[39m\u001B[38;5;124mt\u001B[39m\u001B[38;5;124m\"\u001B[39m, \u001B[38;5;124m\"\u001B[39m\u001B[38;5;124mct\u001B[39m\u001B[38;5;124m\"\u001B[39m), optional\u001B[38;5;241m=\u001B[39m\u001B[38;5;28;01mFalse\u001B[39;00m\n\u001B[1;32m    215\u001B[0m         ),\n\u001B[1;32m    216\u001B[0m     )\n\u001B[1;32m    217\u001B[0m     \u001B[38;5;28mself\u001B[39m\u001B[38;5;241m.\u001B[39m_seasonal \u001B[38;5;241m=\u001B[39m bool_like(seasonal, \u001B[38;5;124m\"\u001B[39m\u001B[38;5;124mseasonal\u001B[39m\u001B[38;5;124m\"\u001B[39m)\n",
      "File \u001B[0;32m~/.local/share/virtualenvs/fishingNN-j66MMPMR/lib/python3.9/site-packages/statsmodels/tsa/base/tsa_model.py:470\u001B[0m, in \u001B[0;36mTimeSeriesModel.__init__\u001B[0;34m(self, endog, exog, dates, freq, missing, **kwargs)\u001B[0m\n\u001B[1;32m    467\u001B[0m \u001B[38;5;28;01mdef\u001B[39;00m \u001B[38;5;21m__init__\u001B[39m(\n\u001B[1;32m    468\u001B[0m     \u001B[38;5;28mself\u001B[39m, endog, exog\u001B[38;5;241m=\u001B[39m\u001B[38;5;28;01mNone\u001B[39;00m, dates\u001B[38;5;241m=\u001B[39m\u001B[38;5;28;01mNone\u001B[39;00m, freq\u001B[38;5;241m=\u001B[39m\u001B[38;5;28;01mNone\u001B[39;00m, missing\u001B[38;5;241m=\u001B[39m\u001B[38;5;124m\"\u001B[39m\u001B[38;5;124mnone\u001B[39m\u001B[38;5;124m\"\u001B[39m, \u001B[38;5;241m*\u001B[39m\u001B[38;5;241m*\u001B[39mkwargs\n\u001B[1;32m    469\u001B[0m ):\n\u001B[0;32m--> 470\u001B[0m     \u001B[38;5;28;43msuper\u001B[39;49m\u001B[43m(\u001B[49m\u001B[43m)\u001B[49m\u001B[38;5;241;43m.\u001B[39;49m\u001B[38;5;21;43m__init__\u001B[39;49m\u001B[43m(\u001B[49m\u001B[43mendog\u001B[49m\u001B[43m,\u001B[49m\u001B[43m \u001B[49m\u001B[43mexog\u001B[49m\u001B[43m,\u001B[49m\u001B[43m \u001B[49m\u001B[43mmissing\u001B[49m\u001B[38;5;241;43m=\u001B[39;49m\u001B[43mmissing\u001B[49m\u001B[43m,\u001B[49m\u001B[43m \u001B[49m\u001B[38;5;241;43m*\u001B[39;49m\u001B[38;5;241;43m*\u001B[39;49m\u001B[43mkwargs\u001B[49m\u001B[43m)\u001B[49m\n\u001B[1;32m    472\u001B[0m     \u001B[38;5;66;03m# Date handling in indexes\u001B[39;00m\n\u001B[1;32m    473\u001B[0m     \u001B[38;5;28mself\u001B[39m\u001B[38;5;241m.\u001B[39m_init_dates(dates, freq)\n",
      "File \u001B[0;32m~/.local/share/virtualenvs/fishingNN-j66MMPMR/lib/python3.9/site-packages/statsmodels/base/model.py:270\u001B[0m, in \u001B[0;36mLikelihoodModel.__init__\u001B[0;34m(self, endog, exog, **kwargs)\u001B[0m\n\u001B[1;32m    269\u001B[0m \u001B[38;5;28;01mdef\u001B[39;00m \u001B[38;5;21m__init__\u001B[39m(\u001B[38;5;28mself\u001B[39m, endog, exog\u001B[38;5;241m=\u001B[39m\u001B[38;5;28;01mNone\u001B[39;00m, \u001B[38;5;241m*\u001B[39m\u001B[38;5;241m*\u001B[39mkwargs):\n\u001B[0;32m--> 270\u001B[0m     \u001B[38;5;28;43msuper\u001B[39;49m\u001B[43m(\u001B[49m\u001B[43m)\u001B[49m\u001B[38;5;241;43m.\u001B[39;49m\u001B[38;5;21;43m__init__\u001B[39;49m\u001B[43m(\u001B[49m\u001B[43mendog\u001B[49m\u001B[43m,\u001B[49m\u001B[43m \u001B[49m\u001B[43mexog\u001B[49m\u001B[43m,\u001B[49m\u001B[43m \u001B[49m\u001B[38;5;241;43m*\u001B[39;49m\u001B[38;5;241;43m*\u001B[39;49m\u001B[43mkwargs\u001B[49m\u001B[43m)\u001B[49m\n\u001B[1;32m    271\u001B[0m     \u001B[38;5;28mself\u001B[39m\u001B[38;5;241m.\u001B[39minitialize()\n",
      "File \u001B[0;32m~/.local/share/virtualenvs/fishingNN-j66MMPMR/lib/python3.9/site-packages/statsmodels/base/model.py:95\u001B[0m, in \u001B[0;36mModel.__init__\u001B[0;34m(self, endog, exog, **kwargs)\u001B[0m\n\u001B[1;32m     93\u001B[0m missing \u001B[38;5;241m=\u001B[39m kwargs\u001B[38;5;241m.\u001B[39mpop(\u001B[38;5;124m'\u001B[39m\u001B[38;5;124mmissing\u001B[39m\u001B[38;5;124m'\u001B[39m, \u001B[38;5;124m'\u001B[39m\u001B[38;5;124mnone\u001B[39m\u001B[38;5;124m'\u001B[39m)\n\u001B[1;32m     94\u001B[0m hasconst \u001B[38;5;241m=\u001B[39m kwargs\u001B[38;5;241m.\u001B[39mpop(\u001B[38;5;124m'\u001B[39m\u001B[38;5;124mhasconst\u001B[39m\u001B[38;5;124m'\u001B[39m, \u001B[38;5;28;01mNone\u001B[39;00m)\n\u001B[0;32m---> 95\u001B[0m \u001B[38;5;28mself\u001B[39m\u001B[38;5;241m.\u001B[39mdata \u001B[38;5;241m=\u001B[39m \u001B[38;5;28;43mself\u001B[39;49m\u001B[38;5;241;43m.\u001B[39;49m\u001B[43m_handle_data\u001B[49m\u001B[43m(\u001B[49m\u001B[43mendog\u001B[49m\u001B[43m,\u001B[49m\u001B[43m \u001B[49m\u001B[43mexog\u001B[49m\u001B[43m,\u001B[49m\u001B[43m \u001B[49m\u001B[43mmissing\u001B[49m\u001B[43m,\u001B[49m\u001B[43m \u001B[49m\u001B[43mhasconst\u001B[49m\u001B[43m,\u001B[49m\n\u001B[1;32m     96\u001B[0m \u001B[43m                              \u001B[49m\u001B[38;5;241;43m*\u001B[39;49m\u001B[38;5;241;43m*\u001B[39;49m\u001B[43mkwargs\u001B[49m\u001B[43m)\u001B[49m\n\u001B[1;32m     97\u001B[0m \u001B[38;5;28mself\u001B[39m\u001B[38;5;241m.\u001B[39mk_constant \u001B[38;5;241m=\u001B[39m \u001B[38;5;28mself\u001B[39m\u001B[38;5;241m.\u001B[39mdata\u001B[38;5;241m.\u001B[39mk_constant\n\u001B[1;32m     98\u001B[0m \u001B[38;5;28mself\u001B[39m\u001B[38;5;241m.\u001B[39mexog \u001B[38;5;241m=\u001B[39m \u001B[38;5;28mself\u001B[39m\u001B[38;5;241m.\u001B[39mdata\u001B[38;5;241m.\u001B[39mexog\n",
      "File \u001B[0;32m~/.local/share/virtualenvs/fishingNN-j66MMPMR/lib/python3.9/site-packages/statsmodels/base/model.py:135\u001B[0m, in \u001B[0;36mModel._handle_data\u001B[0;34m(self, endog, exog, missing, hasconst, **kwargs)\u001B[0m\n\u001B[1;32m    134\u001B[0m \u001B[38;5;28;01mdef\u001B[39;00m \u001B[38;5;21m_handle_data\u001B[39m(\u001B[38;5;28mself\u001B[39m, endog, exog, missing, hasconst, \u001B[38;5;241m*\u001B[39m\u001B[38;5;241m*\u001B[39mkwargs):\n\u001B[0;32m--> 135\u001B[0m     data \u001B[38;5;241m=\u001B[39m \u001B[43mhandle_data\u001B[49m\u001B[43m(\u001B[49m\u001B[43mendog\u001B[49m\u001B[43m,\u001B[49m\u001B[43m \u001B[49m\u001B[43mexog\u001B[49m\u001B[43m,\u001B[49m\u001B[43m \u001B[49m\u001B[43mmissing\u001B[49m\u001B[43m,\u001B[49m\u001B[43m \u001B[49m\u001B[43mhasconst\u001B[49m\u001B[43m,\u001B[49m\u001B[43m \u001B[49m\u001B[38;5;241;43m*\u001B[39;49m\u001B[38;5;241;43m*\u001B[39;49m\u001B[43mkwargs\u001B[49m\u001B[43m)\u001B[49m\n\u001B[1;32m    136\u001B[0m     \u001B[38;5;66;03m# kwargs arrays could have changed, easier to just attach here\u001B[39;00m\n\u001B[1;32m    137\u001B[0m     \u001B[38;5;28;01mfor\u001B[39;00m key \u001B[38;5;129;01min\u001B[39;00m kwargs:\n",
      "File \u001B[0;32m~/.local/share/virtualenvs/fishingNN-j66MMPMR/lib/python3.9/site-packages/statsmodels/base/data.py:675\u001B[0m, in \u001B[0;36mhandle_data\u001B[0;34m(endog, exog, missing, hasconst, **kwargs)\u001B[0m\n\u001B[1;32m    672\u001B[0m     exog \u001B[38;5;241m=\u001B[39m np\u001B[38;5;241m.\u001B[39masarray(exog)\n\u001B[1;32m    674\u001B[0m klass \u001B[38;5;241m=\u001B[39m handle_data_class_factory(endog, exog)\n\u001B[0;32m--> 675\u001B[0m \u001B[38;5;28;01mreturn\u001B[39;00m \u001B[43mklass\u001B[49m\u001B[43m(\u001B[49m\u001B[43mendog\u001B[49m\u001B[43m,\u001B[49m\u001B[43m \u001B[49m\u001B[43mexog\u001B[49m\u001B[38;5;241;43m=\u001B[39;49m\u001B[43mexog\u001B[49m\u001B[43m,\u001B[49m\u001B[43m \u001B[49m\u001B[43mmissing\u001B[49m\u001B[38;5;241;43m=\u001B[39;49m\u001B[43mmissing\u001B[49m\u001B[43m,\u001B[49m\u001B[43m \u001B[49m\u001B[43mhasconst\u001B[49m\u001B[38;5;241;43m=\u001B[39;49m\u001B[43mhasconst\u001B[49m\u001B[43m,\u001B[49m\n\u001B[1;32m    676\u001B[0m \u001B[43m             \u001B[49m\u001B[38;5;241;43m*\u001B[39;49m\u001B[38;5;241;43m*\u001B[39;49m\u001B[43mkwargs\u001B[49m\u001B[43m)\u001B[49m\n",
      "File \u001B[0;32m~/.local/share/virtualenvs/fishingNN-j66MMPMR/lib/python3.9/site-packages/statsmodels/base/data.py:84\u001B[0m, in \u001B[0;36mModelData.__init__\u001B[0;34m(self, endog, exog, missing, hasconst, **kwargs)\u001B[0m\n\u001B[1;32m     82\u001B[0m     \u001B[38;5;28mself\u001B[39m\u001B[38;5;241m.\u001B[39morig_endog \u001B[38;5;241m=\u001B[39m endog\n\u001B[1;32m     83\u001B[0m     \u001B[38;5;28mself\u001B[39m\u001B[38;5;241m.\u001B[39morig_exog \u001B[38;5;241m=\u001B[39m exog\n\u001B[0;32m---> 84\u001B[0m     \u001B[38;5;28mself\u001B[39m\u001B[38;5;241m.\u001B[39mendog, \u001B[38;5;28mself\u001B[39m\u001B[38;5;241m.\u001B[39mexog \u001B[38;5;241m=\u001B[39m \u001B[38;5;28;43mself\u001B[39;49m\u001B[38;5;241;43m.\u001B[39;49m\u001B[43m_convert_endog_exog\u001B[49m\u001B[43m(\u001B[49m\u001B[43mendog\u001B[49m\u001B[43m,\u001B[49m\u001B[43m \u001B[49m\u001B[43mexog\u001B[49m\u001B[43m)\u001B[49m\n\u001B[1;32m     86\u001B[0m \u001B[38;5;28mself\u001B[39m\u001B[38;5;241m.\u001B[39mconst_idx \u001B[38;5;241m=\u001B[39m \u001B[38;5;28;01mNone\u001B[39;00m\n\u001B[1;32m     87\u001B[0m \u001B[38;5;28mself\u001B[39m\u001B[38;5;241m.\u001B[39mk_constant \u001B[38;5;241m=\u001B[39m \u001B[38;5;241m0\u001B[39m\n",
      "File \u001B[0;32m~/.local/share/virtualenvs/fishingNN-j66MMPMR/lib/python3.9/site-packages/statsmodels/base/data.py:509\u001B[0m, in \u001B[0;36mPandasData._convert_endog_exog\u001B[0;34m(self, endog, exog)\u001B[0m\n\u001B[1;32m    507\u001B[0m exog \u001B[38;5;241m=\u001B[39m exog \u001B[38;5;28;01mif\u001B[39;00m exog \u001B[38;5;129;01mis\u001B[39;00m \u001B[38;5;28;01mNone\u001B[39;00m \u001B[38;5;28;01melse\u001B[39;00m np\u001B[38;5;241m.\u001B[39masarray(exog)\n\u001B[1;32m    508\u001B[0m \u001B[38;5;28;01mif\u001B[39;00m endog\u001B[38;5;241m.\u001B[39mdtype \u001B[38;5;241m==\u001B[39m \u001B[38;5;28mobject\u001B[39m \u001B[38;5;129;01mor\u001B[39;00m exog \u001B[38;5;129;01mis\u001B[39;00m \u001B[38;5;129;01mnot\u001B[39;00m \u001B[38;5;28;01mNone\u001B[39;00m \u001B[38;5;129;01mand\u001B[39;00m exog\u001B[38;5;241m.\u001B[39mdtype \u001B[38;5;241m==\u001B[39m \u001B[38;5;28mobject\u001B[39m:\n\u001B[0;32m--> 509\u001B[0m     \u001B[38;5;28;01mraise\u001B[39;00m \u001B[38;5;167;01mValueError\u001B[39;00m(\u001B[38;5;124m\"\u001B[39m\u001B[38;5;124mPandas data cast to numpy dtype of object. \u001B[39m\u001B[38;5;124m\"\u001B[39m\n\u001B[1;32m    510\u001B[0m                      \u001B[38;5;124m\"\u001B[39m\u001B[38;5;124mCheck input data with np.asarray(data).\u001B[39m\u001B[38;5;124m\"\u001B[39m)\n\u001B[1;32m    511\u001B[0m \u001B[38;5;28;01mreturn\u001B[39;00m \u001B[38;5;28msuper\u001B[39m()\u001B[38;5;241m.\u001B[39m_convert_endog_exog(endog, exog)\n",
      "\u001B[0;31mValueError\u001B[0m: Pandas data cast to numpy dtype of object. Check input data with np.asarray(data)."
     ]
    },
    {
     "data": {
      "text/plain": "<Figure size 1000x1000 with 4 Axes>",
      "image/png": "[encoded data removed]"
     },
     "metadata": {},
     "output_type": "display_data"
    }
   ],
   "source": [
    "fig, axs = plt.subplots(nrows=2,ncols=2, figsize=(10,10))\n",
    "\n",
    "# Without interpolation\n",
    "df.plot(ax=axs[0][0],x=\"lat\", y=\"lon\",kind=\"line\", c=\"b\")\n",
    "df.plot(ax=axs[0][0],x=\"lat\", y=\"lon\",kind=\"scatter\", c=\"r\")\n",
    "timdDelt.plot(ax=axs[1][0])\n",
    "\n",
    "# with Auto regression \n",
    "model = interpolat(data=df)\n",
    "print(model)\n"
   ],
   "metadata": {
    "collapsed": false,
    "ExecuteTime": {
     "end_time": "2024-05-24T10:48:13.162406Z",
     "start_time": "2024-05-24T10:48:12.549261Z"
    }
   },
   "id": "bdd6d8a5db68a734"
  },
  {
   "cell_type": "markdown",
   "source": [
    "### AIS Data count"
   ],
   "metadata": {
    "collapsed": false
   },
   "id": "323ea0d3a64d48dc"
  },
  {
   "cell_type": "code",
   "execution_count": 5,
   "outputs": [],
   "source": [
    "import pandas as pd\n",
    "from sqlalchemy import create_engine\n",
    "import requests\n",
    "import numpy as np\n",
    "import glob"
   ],
   "metadata": {
    "collapsed": false,
    "ExecuteTime": {
     "end_time": "2024-06-04T06:02:12.272484Z",
     "start_time": "2024-06-04T06:02:12.259742Z"
    }
   },
   "id": "cd5fde7e91e3bae4"
  },
  {
   "cell_type": "code",
   "execution_count": 45,
   "outputs": [],
   "source": [
    "df = pd.read_csv(\"./data/imo_to_mmsi.csv\").drop(columns=[\"Unnamed: 0\"])\n"
   ],
   "metadata": {
    "collapsed": false,
    "ExecuteTime": {
     "end_time": "2024-05-25T09:01:08.283171Z",
     "start_time": "2024-05-25T09:01:05.141025Z"
    }
   },
   "id": "2fd5a97648020200"
  },
  {
   "cell_type": "code",
   "execution_count": 61,
   "outputs": [
    {
     "name": "stdout",
     "output_type": "stream",
     "text": [
      "Empty DataFrame\n",
      "Columns: [CurrentlyListed, IMO, mmsi, timestamp, distance_from_shore, distance_from_port, speed, course, lat, lon, is_fishing, source]\n",
      "Index: []\n",
      "Empty DataFrame\n",
      "Columns: [CurrentlyListed, IMO, mmsi, timestamp, distance_from_shore, distance_from_port, speed, course, lat, lon, is_fishing, source]\n",
      "Index: []\n",
      "Empty DataFrame\n",
      "Columns: [CurrentlyListed, IMO, mmsi, timestamp, distance_from_shore, distance_from_port, speed, course, lat, lon, is_fishing, source]\n",
      "Index: []\n",
      "Empty DataFrame\n",
      "Columns: [CurrentlyListed, IMO, mmsi, timestamp, distance_from_shore, distance_from_port, speed, course, lat, lon, is_fishing, source]\n",
      "Index: []\n",
      "Empty DataFrame\n",
      "Columns: [CurrentlyListed, IMO, mmsi, timestamp, distance_from_shore, distance_from_port, speed, course, lat, lon, is_fishing, source]\n",
      "Index: []\n",
      "Empty DataFrame\n",
      "Columns: [CurrentlyListed, IMO, mmsi, timestamp, distance_from_shore, distance_from_port, speed, course, lat, lon, is_fishing, source]\n",
      "Index: []\n",
      "Empty DataFrame\n",
      "Columns: [CurrentlyListed, IMO, mmsi, timestamp, distance_from_shore, distance_from_port, speed, course, lat, lon, is_fishing, source]\n",
      "Index: []\n"
     ]
    }
   ],
   "source": [
    "df = df.astype({\"mmsi\": np.float32})\n",
    "\n",
    "for path in glob.glob(\"./data/data/*\"):\n",
    "    dataset = pd.read_csv(path, dtype={\"mmsi\":np.float32})\n",
    "\n",
    "    tmp = df.merge(dataset, left_on=\"mmsi\", right_on=\"mmsi\", how=\"inner\")\n",
    "    print(tmp)\n",
    "\n"
   ],
   "metadata": {
    "collapsed": false,
    "ExecuteTime": {
     "end_time": "2024-05-25T09:12:42.300377Z",
     "start_time": "2024-05-25T09:12:19.989376Z"
    }
   },
   "id": "c698bc463c954020"
  },
  {
   "cell_type": "markdown",
   "source": [
    "### count IUU in lootering"
   ],
   "metadata": {
    "collapsed": false
   },
   "id": "eb5be08eebca44db"
  },
  {
   "cell_type": "code",
   "execution_count": 7,
   "outputs": [],
   "source": [
    "df_fishing_vessels = pd.read_csv(\"data/Fishing_Effort/fishing-vessels-v2.csv\") \n",
    "\n",
    "# https://globalfishingwatch.org/data-download/datasets/public-revealing-the-supply-chain-at-sea-2021\n",
    "df_loiter_carrier = pd.read_csv(\"data/revealing_the_supply_chain_at_sea_2021/carrier_loitering_v20210408.csv\")\n",
    "df_loiter_bunker = pd.read_csv(\"data/revealing_the_supply_chain_at_sea_2021/bunker_loitering_v20210408.csv\")\n",
    "\n",
    "# https://github.com/emlab-ucsb/slavery-in-fisheries\n",
    "df_model_raw = pd.read_csv(\"data/slavery_in_fisheries/s1_training_final.csv\")\n",
    "df_model_labels = pd.read_csv(\"data/slavery_in_fisheries/s4_final_model_predictions.csv\")"
   ],
   "metadata": {
    "collapsed": false,
    "ExecuteTime": {
     "end_time": "2024-06-04T06:03:42.456772Z",
     "start_time": "2024-06-04T06:03:41.531057Z"
    }
   },
   "id": "ca6a9e73c675fe53"
  },
  {
   "cell_type": "code",
   "execution_count": 9,
   "outputs": [
    {
     "name": "stdout",
     "output_type": "stream",
     "text": [
      "Rows with Prediction 16261\n",
      "Rows pos Prediction 3297\n",
      "Rows neg Prediction 12964\n",
      "\n",
      "Rows : 2245\n",
      "Rows Negative: 305\n",
      "Rows Positive: 1940\n"
     ]
    },
    {
     "name": "stderr",
     "output_type": "stream",
     "text": [
      "/var/folders/gm/pxzh4m3d3xlbcffhxnmwc3jm0000gn/T/ipykernel_9848/640130153.py:25: UserWarning: The argument 'infer_datetime_format' is deprecated and will be removed in a future version. A strict version of it is now the default, see https://pandas.pydata.org/pdeps/0004-consistent-to-datetime-parsing.html. You can safely remove this argument.\n",
      "  df_loiter_data['loitering_start_timestamp'] = pd.to_datetime(df_loiter_data['loitering_start_timestamp'], infer_datetime_format=True)\n"
     ]
    }
   ],
   "source": [
    "# Cleanup data and merge different DataFrames to get the final required dataset\n",
    "merge_on = [\"hours\",\"fishing_hours\",\"average_daily_fishing_hours\",\"fishing_hours_foreign_eez\",\"fishing_hours_high_seas\",\"distance_traveled_km\"]\n",
    "df_model = pd.merge(df_model_labels, df_model_raw[merge_on + [\"mmsi\"]], on=merge_on, how=\"left\" )\n",
    "# https://stackoverflow.com/questions/15222754/groupby-pandas-dataframe-and-select-most-common-value\n",
    "df_grouped_mmsi = df_model.groupby(\"mmsi\")[\"Prediction\"].apply(pd.Series.mode).reset_index()#.agg(pd.Series.mode).reset_index()\n",
    "df_grouped_mmsi = df_grouped_mmsi.drop_duplicates(subset=['mmsi'], keep=\"last\")\n",
    "\n",
    "print(\"Rows with Prediction\",len(df_grouped_mmsi))\n",
    "print(\"Rows pos Prediction\", len(df_grouped_mmsi.loc[df_grouped_mmsi[\"Prediction\"] == \"Positive\"]))\n",
    "print(\"Rows neg Prediction\", len(df_grouped_mmsi.loc[df_grouped_mmsi[\"Prediction\"] == \"Negative\"]))\n",
    "print()\n",
    "\n",
    "df_loiter_data_carrier = pd.merge(df_grouped_mmsi[[\"mmsi\",\"Prediction\"]], df_loiter_carrier, left_on=\"mmsi\", right_on=\"carrier_mmsi\")\n",
    "df_loiter_data_bunker = pd.merge(df_grouped_mmsi[[\"mmsi\",\"Prediction\"]], df_loiter_bunker, left_on=\"mmsi\", right_on=\"bunker_mmsi\")\n",
    "df_loiter_data = pd.concat([df_loiter_data_carrier,df_loiter_data_bunker])\n",
    "print(\"Rows :\",len(df_loiter_data))\n",
    "print(\"Rows Negative:\",len(df_loiter_data.loc[df_loiter_data[\"Prediction\"] == \"Negative\"]))\n",
    "print(\"Rows Positive:\",len(df_loiter_data.loc[df_loiter_data[\"Prediction\"] == \"Positive\"]))\n",
    "\n",
    "## Define Class Labeling and encode classes to chosen definitions\n",
    "IUU_LABEL = 0\n",
    "NON_IUU_LABEL = 1\n",
    "UNLABELLED = -1\n",
    "# Get loiter start hour of day feature. This feature can be useful\n",
    "df_loiter_data['loitering_start_timestamp'] = pd.to_datetime(df_loiter_data['loitering_start_timestamp'], infer_datetime_format=True)\n",
    "df_loiter_data['loitering_start_hour'] = df_loiter_data['loitering_start_timestamp'].dt.hour\n",
    "df_loiter_data['response'] = df_loiter_data['Prediction'].apply(lambda x: IUU_LABEL if x == 'Positive' else (NON_IUU_LABEL if x == 'Negative' else UNLABELLED))\n",
    "df_loiter_data_unlabeled = df_loiter_data[df_loiter_data['response'] == UNLABELLED].reset_index(drop=True)\n",
    "df_loiter_data_labeled = df_loiter_data[df_loiter_data['response'] != UNLABELLED].reset_index(drop=True)\n",
    "\n",
    "# Remove outliers\n",
    "outliers_labeled = [987]\n",
    "df_loiter_data_labeled.drop(index=outliers_labeled, inplace=True)\n",
    "\n",
    "# Extract Relevant columns\n",
    "rel_cols = ['response','loitering_start_hour','loitering_hours','avg_speed_knots','avg_distance_from_shore_nm']\n",
    "df_raw_all = df_loiter_data[rel_cols]\n",
    "df_raw_labeled = df_loiter_data_labeled[rel_cols]\n",
    "# print(df_raw_labeled.iloc[:5])\n",
    "df_raw_unlabeled = df_loiter_data_unlabeled[rel_cols]"
   ],
   "metadata": {
    "collapsed": false,
    "ExecuteTime": {
     "end_time": "2024-06-04T06:04:08.377495Z",
     "start_time": "2024-06-04T06:04:07.503390Z"
    }
   },
   "id": "ed7462186e784889"
  }
 ],
 "metadata": {
  "kernelspec": {
   "display_name": "Python 3",
   "language": "python",
   "name": "python3"
  },
  "language_info": {
   "codemirror_mode": {
    "name": "ipython",
    "version": 2
   },
   "file_extension": ".py",
   "mimetype": "text/x-python",
   "name": "python",
   "nbconvert_exporter": "python",
   "pygments_lexer": "ipython2",
   "version": "2.7.6"
  }
 },
 "nbformat": 4,
 "nbformat_minor": 5
}
