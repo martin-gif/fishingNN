{
 "cells": [
  {
   "cell_type": "code",
   "execution_count": 1,
   "outputs": [],
   "source": [
    "import pandas as pd\n",
    "import geopandas as gpd\n",
    "# Load the TensorBoard notebook extension\n",
    "%load_ext tensorboard\n",
    "\n",
    "import os\n",
    "from dataloader import fishingDataLoader\n",
    "import tensorflow as tf\n",
    "from tensorflow.keras.callbacks import TensorBoard\n",
    "from keras.utils import np_utils\n",
    "import datetime\n",
    "import matplotlib.pyplot as plt\n",
    "import numpy as np\n",
    "from sklearn.preprocessing import LabelEncoder, StandardScaler\n",
    "from sklearn.metrics import confusion_matrix\n",
    "from sklearn.model_selection import train_test_split\n"
   ],
   "metadata": {
    "collapsed": false,
    "ExecuteTime": {
     "end_time": "2024-01-31T09:20:33.182230Z",
     "start_time": "2024-01-31T09:20:15.833955Z"
    }
   },
   "id": "initial_id"
  },
  {
   "cell_type": "code",
   "execution_count": 2,
   "outputs": [],
   "source": [
    "def emptyLog():\n",
    "    folder = \"logs\"\n",
    "    for f in os.listdir(folder):\n",
    "        os.remove(os.path.join(folder, f))\n",
    "    log_dir = f\"{folder}/\" + datetime.datetime.now().strftime(\"%Y%m%d-%H%M%S\")\n",
    "    tensorboard_callback = TensorBoard(\n",
    "        log_dir=log_dir,\n",
    "        histogram_freq=1,\n",
    "        write_graph=True,\n",
    "        write_images=False,\n",
    "        update_freq=\"epoch\",\n",
    "    )"
   ],
   "metadata": {
    "collapsed": false,
    "ExecuteTime": {
     "end_time": "2024-01-31T09:21:09.415454Z",
     "start_time": "2024-01-31T09:21:09.393823Z"
    }
   },
   "id": "adcff4e0462e24f4"
  },
  {
   "cell_type": "code",
   "execution_count": 5,
   "outputs": [],
   "source": [
    "#emptyLog()"
   ],
   "metadata": {
    "collapsed": false,
    "ExecuteTime": {
     "end_time": "2024-01-21T17:23:41.888042Z",
     "start_time": "2024-01-21T17:23:41.883352Z"
    }
   },
   "id": "ff070ed96a9de387"
  },
  {
   "cell_type": "code",
   "execution_count": 3,
   "outputs": [],
   "source": [
    "def loadFishingData():\n",
    "    loader = fishingDataLoader()\n",
    "    data = loader.loadAllTrainingData()\n",
    "    return data.reset_index(drop=True)\n",
    "\n",
    "def loadIresData():\n",
    "    data = pd.read_csv(\"test/iris_original.csv\")\n",
    "    return data\n",
    "\n",
    "def createHotVector(y):\n",
    "    if isinstance(y, pd.DataFrame):\n",
    "        if len(lables.columns) == 1: # check if Datafram has only one colum\n",
    "            return -1\n",
    "        \n",
    "        \n",
    "        y_vector = np_utils.to_categorical(y.to_numpy())\n",
    "    else:\n",
    "        y_vector = np_utils.to_categorical(y)\n",
    "    return pd.DataFrame(y_vector)\n",
    "\n",
    "def cleanrows(df: pd.DataFrame):\n",
    "    old_count_rows = df.shape[0]\n",
    "    df = df.dropna()\n",
    "    new_conut_rows = df.shape[0]\n",
    "    print(f\"deletet {old_count_rows-new_conut_rows} rows\")\n",
    "    return df\n",
    "\n",
    "def generateClassWeightsFromHotVektor(lable: pd.DataFrame):\n",
    "    n_samples, n_classes = lable.shape\n",
    "    feature_index, idx, count = tf.unique_with_counts(tf.argmax(lable,axis=1))\n",
    "    class_weight = dict()\n",
    "    \n",
    "    for key, samples_of_class in zip(feature_index.numpy(),count.numpy()):\n",
    "        score = n_samples/(n_classes*samples_of_class)\n",
    "        class_weight[key] = score \n",
    "    return class_weight\n",
    "    \n",
    "\n",
    "def normalizeColums(df: pd.DataFrame, name_of_cols):\n",
    "    df[name_of_cols] = df[name_of_cols]/ df[name_of_cols].abs().max()\n",
    "    return df\n",
    "    \n",
    "def printFeatureDistribution(features):\n",
    "    if features.shape[-1] != 1:\n",
    "        features = tf.argmax(features,axis=1)\n",
    "    \n",
    "    if isinstance(features, pd.DataFrame):\n",
    "        features = features.to_numpy()\n",
    "    feature_index, idx, count = tf.unique_with_counts(features)\n",
    "    feature_index = feature_index.numpy()\n",
    "    count = count.numpy()\n",
    "    percent = tf.round((count/ sum(count))*10000)/100\n",
    "    d = {\n",
    "        \"amount\": count,\n",
    "        \"percent %\": percent\n",
    "    }\n",
    "    dist = pd.DataFrame(d, index=feature_index)\n",
    "    print(dist)\n",
    "    \n",
    "def prepareDataset(raw_data: pd.DataFrame, testSize = 0.2):\n",
    "    \n",
    "    raw_data = cleanrows(raw_data) #Del row with nan values\n",
    "    \n",
    "    nameOfFeatureCols = raw_data.columns[:-1]\n",
    "    number_coloums = len(raw_data.columns)\n",
    "    nameOfTargetCol = raw_data.columns[-1]\n",
    "    raw_data = pd.get_dummies(raw_data, columns=[nameOfTargetCol], dtype=float)\n",
    "    \n",
    "    target_colums = len(raw_data.columns)-number_coloums+1 # how many target coloums exists\n",
    "    \n",
    "    train_data, val_data = train_test_split(raw_data, test_size=testSize)\n",
    "    \n",
    "    train_features, train_lable = train_data.iloc[:,:-target_colums], train_data.iloc[:,-target_colums:]\n",
    "    val_features, val_lable = val_data.iloc[:,:-target_colums], val_data.iloc[:,-target_colums:]\n",
    "    \n",
    "\n",
    "    return train_features, train_lable, val_features, val_lable\n",
    "\n",
    "def turnUnixTimeToDate(date: int):\n",
    "    return datetime.datetime.utcfromtimestamp(date).strftime('%Y-%m-%d %H:%M:%S')\n"
   ],
   "metadata": {
    "collapsed": false,
    "ExecuteTime": {
     "end_time": "2024-01-31T09:21:12.657419Z",
     "start_time": "2024-01-31T09:21:12.655093Z"
    }
   },
   "id": "8fc162a1a27a1970"
  },
  {
   "cell_type": "code",
   "execution_count": 4,
   "outputs": [
    {
     "name": "stdout",
     "output_type": "stream",
     "text": [
      "                 mmsi     timestamp  distance_from_shore  distance_from_port  \\\n",
      "0        1.252340e+12  1.325376e+09             0.000000             0.00000   \n",
      "1        1.252340e+12  1.325378e+09             0.000000             0.00000   \n",
      "2        1.252340e+12  1.325379e+09             0.000000             0.00000   \n",
      "3        1.252340e+12  1.325380e+09             0.000000             0.00000   \n",
      "4        1.252340e+12  1.325381e+09             0.000000             0.00000   \n",
      "...               ...           ...                  ...                 ...   \n",
      "1545318  4.393595e+13  1.480030e+09        132057.359375        507208.40625   \n",
      "1545319  4.393595e+13  1.480030e+09        132057.359375        507208.40625   \n",
      "1545320  4.393595e+13  1.480030e+09        132057.359375        507208.40625   \n",
      "1545321  4.393595e+13  1.480030e+09        132057.359375        507208.40625   \n",
      "1545322  4.393595e+13  1.480030e+09        132030.843750        506601.81250   \n",
      "\n",
      "         speed      course        lat         lon  is_fishing  labels  \n",
      "0          0.0  153.000000  52.458649    4.581200        -1.0       0  \n",
      "1          0.0  153.000000  52.458668    4.581167        -1.0       0  \n",
      "2          0.0  153.000000  52.458633    4.581183        -1.0       0  \n",
      "3          0.0  153.000000  52.458649    4.581234        -1.0       0  \n",
      "4          0.0  153.000000  52.458649    4.581183        -1.0       0  \n",
      "...        ...         ...        ...         ...         ...     ...  \n",
      "1545318   13.1  199.800003   1.138018  153.583633        -1.0       6  \n",
      "1545319   12.8  199.800003   1.135133  153.582855        -1.0       6  \n",
      "1545320   12.9  196.800003   1.134502  153.582626        -1.0       6  \n",
      "1545321   13.0  198.899994   1.131033  153.581512        -1.0       6  \n",
      "1545322   12.8  197.300003   1.129303  153.580948        -1.0       6  \n",
      "\n",
      "[21769846 rows x 10 columns]\n",
      "deletet 183 rows\n"
     ]
    }
   ],
   "source": [
    "#raw_data = loadFishingData()\n",
    "\n",
    "train_features, train_lables, val_features, val_lables = prepareDataset(loadFishingData(),testSize=0.2)\n",
    "\n",
    "\n",
    "TARGETS = len(train_lables.columns)\n",
    "INPUTS = train_features.shape[-1]"
   ],
   "metadata": {
    "collapsed": false,
    "ExecuteTime": {
     "end_time": "2024-01-31T09:28:08.417650Z",
     "start_time": "2024-01-31T09:27:39.427971Z"
    }
   },
   "id": "64d8baa693c7c933"
  },
  {
   "cell_type": "code",
   "execution_count": 10,
   "outputs": [
    {
     "name": "stdout",
     "output_type": "stream",
     "text": [
      "['trawlers.csv', 'drifting_longlines.csv', 'trollers.csv', 'unknown.csv', 'pole_and_line.csv', 'fixed_gear.csv', 'purse_seines.csv']\n"
     ]
    },
    {
     "ename": "AttributeError",
     "evalue": "'fishingDataLoader' object has no attribute 'genSmalerDataset'",
     "output_type": "error",
     "traceback": [
      "\u001B[0;31m---------------------------------------------------------------------------\u001B[0m",
      "\u001B[0;31mAttributeError\u001B[0m                            Traceback (most recent call last)",
      "Cell \u001B[0;32mIn[10], line 3\u001B[0m\n\u001B[1;32m      1\u001B[0m loader \u001B[38;5;241m=\u001B[39m fishingDataLoader()\n\u001B[1;32m      2\u001B[0m \u001B[38;5;28mprint\u001B[39m(loader\u001B[38;5;241m.\u001B[39mfile_list)\n\u001B[0;32m----> 3\u001B[0m \u001B[43mloader\u001B[49m\u001B[38;5;241;43m.\u001B[39;49m\u001B[43mgenSmalerDataset\u001B[49m(sample\u001B[38;5;241m=\u001B[39m\u001B[38;5;241m60000\u001B[39m)\n",
      "\u001B[0;31mAttributeError\u001B[0m: 'fishingDataLoader' object has no attribute 'genSmalerDataset'"
     ]
    }
   ],
   "source": [
    "loader = fishingDataLoader()\n",
    "print(loader.file_list)\n",
    "loader.genSmalerDataset(sample=60000)"
   ],
   "metadata": {
    "collapsed": false,
    "ExecuteTime": {
     "end_time": "2024-01-31T09:40:52.142066Z",
     "start_time": "2024-01-31T09:40:52.129226Z"
    }
   },
   "id": "6a202ff72506fd7"
  },
  {
   "cell_type": "code",
   "execution_count": 8,
   "outputs": [
    {
     "name": "stdout",
     "output_type": "stream",
     "text": [
      "<class 'pandas.core.groupby.generic.DataFrameGroupBy'>\n",
      "1252339803566.0\n",
      "5020143137211.0\n",
      "5145483253513.0\n",
      "5601266154050.0\n",
      "7572518792420.0\n",
      "8681844482850.0\n",
      "9924005022437.0\n",
      "10759394346704.0\n",
      "10880510825243.0\n",
      "11170005450471.0\n",
      "12639560807591.0\n",
      "16508054338972.0\n",
      "18199244904065.0\n",
      "18483455048454.0\n",
      "19859547683322.0\n",
      "20001834541437.0\n",
      "21232708893780.0\n",
      "23406746127304.0\n",
      "23593130178765.0\n",
      "23770783250938.0\n",
      "26616040923734.0\n",
      "27932326533321.0\n",
      "28144259049658.0\n",
      "30054937091173.0\n",
      "30373804074051.0\n",
      "30581813007233.0\n",
      "31865679879784.0\n",
      "32225346417081.0\n",
      "33266086194351.0\n",
      "34911701098431.0\n",
      "36212632719018.0\n",
      "36427802545466.0\n",
      "37908995999986.0\n",
      "38322969102051.0\n",
      "38992105566132.0\n",
      "39005622580143.0\n",
      "39859406485734.0\n",
      "40834114543542.0\n",
      "40976637345731.0\n",
      "41941786536935.0\n",
      "42314208291274.0\n",
      "43935946737362.0\n",
      "44009123736191.0\n",
      "47334168288729.0\n",
      "48455039594066.0\n",
      "48939529147579.0\n",
      "49160289345306.0\n",
      "49534994750419.0\n",
      "51101297206144.0\n",
      "51394439323066.0\n",
      "53148833486047.0\n",
      "56414685655968.0\n",
      "59112496180970.0\n",
      "59665165133807.0\n",
      "60628870128017.0\n",
      "62603844222786.0\n",
      "63716389910332.0\n",
      "68776567390102.0\n",
      "69609856269322.0\n",
      "72061040661322.0\n",
      "75704340932214.0\n",
      "76527009766959.0\n",
      "77182424306278.0\n",
      "77261928739173.0\n",
      "77832927010710.0\n",
      "78359653510570.0\n",
      "79111403404442.0\n",
      "80423450140220.0\n",
      "80557044293978.0\n",
      "81263963638651.0\n",
      "81653757071585.0\n",
      "83050616095643.0\n",
      "83171028160219.0\n",
      "83611953083118.0\n",
      "84948799517770.0\n",
      "85022770160929.0\n",
      "85873573270094.0\n",
      "86817739143879.0\n",
      "87031415611873.0\n",
      "87919276942456.0\n",
      "88026465034109.0\n",
      "88060965838011.0\n",
      "88780175381729.0\n",
      "89110306461984.0\n",
      "91817019950540.0\n",
      "94009022646679.0\n",
      "94745481952721.0\n",
      "95062718521348.0\n",
      "96214383360627.0\n",
      "100043174358994.0\n",
      "100771710683634.0\n",
      "102029098096261.0\n",
      "102111574707951.0\n",
      "103576446797335.0\n",
      "103786638076601.0\n",
      "104081773926431.0\n",
      "106150487182509.0\n",
      "108694285641009.0\n",
      "108916342700357.0\n",
      "109864465509954.0\n",
      "109899633275761.0\n",
      "110014060911622.0\n",
      "112453193185843.0\n",
      "112940878780541.0\n",
      "116333895145045.0\n",
      "117813837180006.0\n",
      "118485905119293.0\n",
      "119914759372174.0\n",
      "121426486551523.0\n",
      "121739171405202.0\n",
      "122096467518708.0\n",
      "125954407820672.0\n",
      "126605727399747.0\n",
      "129153374871944.0\n",
      "130528914446151.0\n",
      "132058711150033.0\n",
      "132854487178939.0\n",
      "133292692499348.0\n",
      "133554754525857.0\n",
      "134198565019795.0\n",
      "134393118622376.0\n",
      "135658402276906.0\n",
      "136929052181490.0\n",
      "138705062821220.0\n",
      "139028728648447.0\n",
      "139135923300128.0\n",
      "139761124626862.0\n",
      "141400905437140.0\n",
      "141431600530701.0\n",
      "141471888075398.0\n",
      "143694748644249.0\n",
      "143906914639303.0\n",
      "149117408188942.0\n",
      "149732026109185.0\n",
      "157226661382842.0\n",
      "157515842393095.0\n",
      "157606376843577.0\n",
      "158316964992067.0\n",
      "160888730138947.0\n",
      "164146740964321.0\n",
      "167072386810842.0\n",
      "168015789077263.0\n",
      "169618621411728.0\n",
      "171088031194242.0\n",
      "174925870281549.0\n",
      "175387414441613.0\n",
      "177523928951928.0\n",
      "178183327397239.0\n",
      "178555652571863.0\n",
      "178858950138911.0\n",
      "180084767642619.0\n",
      "181792856256929.0\n",
      "182087889708399.0\n",
      "183690246677486.0\n",
      "183812835001603.0\n",
      "184417002225525.0\n",
      "184922007900201.0\n",
      "185079710227621.0\n",
      "186746307373264.0\n",
      "187707772448569.0\n",
      "188687364514644.0\n",
      "192426881471378.0\n",
      "192692343350638.0\n",
      "192803403297411.0\n",
      "194671993660064.0\n",
      "194716368060295.0\n",
      "196010605910823.0\n",
      "196184437994412.0\n",
      "196934368191473.0\n",
      "197235271847792.0\n",
      "198075846723102.0\n",
      "198266627907369.0\n",
      "202807357436622.0\n",
      "203685766228826.0\n",
      "204349732031005.0\n",
      "205198558017191.0\n",
      "205398406929032.0\n",
      "207302220793465.0\n",
      "207493565218514.0\n",
      "207595838999742.0\n",
      "207649577408623.0\n",
      "208886908053041.0\n",
      "208925550869609.0\n",
      "210316168866209.0\n",
      "212703922233424.0\n",
      "214572731257568.0\n",
      "215151145083937.0\n",
      "218796484670282.0\n",
      "218997104404214.0\n",
      "222656062190286.0\n",
      "224464308529424.0\n",
      "224833127282221.0\n",
      "225902824726985.0\n",
      "225986789154693.0\n",
      "229561307305795.0\n",
      "229926462784947.0\n",
      "230452925672863.0\n",
      "231154271004480.0\n",
      "240226012373593.0\n",
      "240306622847094.0\n",
      "245558512447234.0\n",
      "249436063983467.0\n",
      "250845635365871.0\n",
      "251022003811177.0\n",
      "252626663422393.0\n",
      "253383408980179.0\n",
      "253857904988474.0\n",
      "255320322989778.0\n",
      "257110405481434.0\n",
      "257268756979349.0\n",
      "258237566084521.0\n",
      "260992596962571.0\n",
      "261683006747890.0\n",
      "262522671777909.0\n",
      "262534508730959.0\n",
      "263392518194890.0\n",
      "266462074800686.0\n",
      "267609942203034.0\n",
      "267966743027591.0\n",
      "268433469365583.0\n",
      "269050323939773.0\n",
      "269119641458109.0\n",
      "271347251834362.0\n",
      "271648488454992.0\n",
      "273352002611600.0\n",
      "274063840293718.0\n",
      "274683790319798.0\n",
      "274850145767759.0\n",
      "277458320934593.0\n",
      "277515277585463.0\n",
      "278798244192815.0\n",
      "280291299563683.0\n",
      "281060477973977.0\n",
      "281205828320417.0\n"
     ]
    }
   ],
   "source": [
    "groups = train_features.groupby('mmsi')\n",
    "print(type(groups))\n",
    "for name,group in groups:\n",
    "    print(name)"
   ],
   "metadata": {
    "collapsed": false,
    "ExecuteTime": {
     "end_time": "2024-01-21T17:24:17.349054Z",
     "start_time": "2024-01-21T17:24:15.570151Z"
    }
   },
   "id": "76a462d9375c336a"
  },
  {
   "cell_type": "code",
   "execution_count": 9,
   "outputs": [
    {
     "name": "stdout",
     "output_type": "stream",
     "text": [
      "{1: 0.25975535486746965, 0: 0.8305294898335339, 4: 2.3265009343017797, 5: 2.3468879804484057, 3: 22.50024547042469, 2: 21.83292339553857}\n",
      "     amount  percent %\n",
      "1  11174444      64.16\n",
      "0   3494905      20.07\n",
      "4   1247634       7.16\n",
      "5   1236796       7.10\n",
      "3    129004       0.74\n",
      "2    132947       0.76\n",
      "9 6\n"
     ]
    }
   ],
   "source": [
    "class_weights = generateClassWeightsFromHotVektor(train_lables)\n",
    "print(class_weights)\n",
    "\n",
    "printFeatureDistribution(train_lables)\n",
    "\n",
    "print(INPUTS, TARGETS)"
   ],
   "metadata": {
    "collapsed": false,
    "ExecuteTime": {
     "end_time": "2024-01-21T17:24:22.542252Z",
     "start_time": "2024-01-21T17:24:21.604781Z"
    }
   },
   "id": "7e66190ebecfa5aa"
  },
  {
   "cell_type": "code",
   "execution_count": 10,
   "outputs": [],
   "source": [
    "def genModel(output_bias=None):\n",
    "    if output_bias is not  None:\n",
    "        output_bias = tf.keras.initializers.Constant(output_bias)\n",
    "    \n",
    "    model = tf.keras.Sequential(\n",
    "        name= \"simpleModel\",\n",
    "        layers = [\n",
    "        tf.keras.layers.BatchNormalization(),\n",
    "        tf.keras.layers.Dense(10, activation=tf.nn.relu, input_dim=INPUTS, name='dense1'),  # input shape required\n",
    "        tf.keras.layers.Dense(30, activation=tf.nn.relu, name='dense2'),\n",
    "        tf.keras.layers.Dense(TARGETS, activation=tf.nn.softmax, name='dense3', bias_initializer=output_bias)\n",
    "    ])\n",
    "    \n",
    "    model.compile(\n",
    "    optimizer=tf.keras.optimizers.legacy.Adam(),\n",
    "    loss=tf.keras.losses.CategoricalCrossentropy(),\n",
    "    metrics=[\n",
    "        'accuracy',\n",
    "        tf.keras.metrics.Recall(name=\"Recall\"),\n",
    "        tf.keras.metrics.Precision(name=\"Precision\"),\n",
    "    ]\n",
    ")\n",
    "    return model"
   ],
   "metadata": {
    "collapsed": false,
    "ExecuteTime": {
     "end_time": "2024-01-21T17:24:26.986044Z",
     "start_time": "2024-01-21T17:24:26.983643Z"
    }
   },
   "id": "f4bfb1ec78f892da"
  },
  {
   "cell_type": "code",
   "execution_count": 11,
   "outputs": [],
   "source": [
    "\n",
    "# Include the epoch in the file name (uses `str.format`)\n",
    "checkpoint_path = \"training/cp-{epoch:04d}.ckpt\"\n",
    "checkpoint_dir = os.path.dirname(checkpoint_path)\n",
    "\n",
    "# Create a callback that saves the model's weights every 5 epochs\n",
    "cp_callback = tf.keras.callbacks.ModelCheckpoint(\n",
    "    filepath=checkpoint_path, \n",
    "    verbose=1, \n",
    "    save_weights_only=True,\n",
    "    save_freq=5)\n",
    "\n",
    "log_dir = \"logs/fit/\" + datetime.datetime.now().strftime(\"%Y%m%d-%H%M%S\")\n",
    "tensorboard_callback = tf.keras.callbacks.TensorBoard(log_dir=log_dir, histogram_freq=1)\n",
    "\n",
    "# Early stop\n",
    "early_stop_callback = tf.keras.callbacks.EarlyStopping(monitor=\"val_accuracy\", min_delta=0.001, patience=1)\n"
   ],
   "metadata": {
    "collapsed": false,
    "ExecuteTime": {
     "end_time": "2024-01-21T17:24:27.948727Z",
     "start_time": "2024-01-21T17:24:27.946864Z"
    }
   },
   "id": "5cd68517352e10e7"
  },
  {
   "cell_type": "code",
   "execution_count": 12,
   "outputs": [],
   "source": [
    "class SimpleModel(tf.keras.Model):\n",
    "    INPUTS = 19\n",
    "    TARGETS = 6\n",
    "\n",
    "    def __init__(self, input_dim = 9 ,output_bias=None):\n",
    "        super(SimpleModel, self).__init__(name='SimpleModel')\n",
    "        if output_bias is not None:\n",
    "            output_bias = tf.keras.initializers.Constant(output_bias)\n",
    "\n",
    "        self.batchNorm = tf.keras.layers.BatchNormalization(name='BatchNormalization')\n",
    "        self.Layer1 = tf.keras.layers.Dense(20, activation=tf.nn.relu,name='dense1')  # input shape required\n",
    "        self.Layer2 = tf.keras.layers.Dense(20, activation=tf.nn.relu, name='dense2')\n",
    "        self.Layer3 = tf.keras.layers.Dense(10, activation=tf.nn.relu, name='dense3')\n",
    "        self.Output = tf.keras.layers.Dense(self.TARGETS, activation=tf.nn.softmax, name='outout',\n",
    "                                            bias_initializer=output_bias)\n",
    "\n",
    "    def call(self, inputs, training=None, mask=None):\n",
    "        x = self.batchNorm(inputs)\n",
    "        x = self.Layer1(x)\n",
    "        x = self.Layer2(x)\n",
    "        x = self.Layer3(x)\n",
    "        x = self.Output(x)\n",
    "        \n",
    "        return x"
   ],
   "metadata": {
    "collapsed": false,
    "ExecuteTime": {
     "end_time": "2024-01-21T17:24:30.309093Z",
     "start_time": "2024-01-21T17:24:30.304741Z"
    }
   },
   "id": "56e4b5658072585"
  },
  {
   "cell_type": "code",
   "execution_count": 13,
   "outputs": [
    {
     "name": "stdout",
     "output_type": "stream",
     "text": [
      "Model: \"SimpleModel\"\n",
      "_________________________________________________________________\n",
      " Layer (type)                Output Shape              Param #   \n",
      "=================================================================\n",
      " BatchNormalization (BatchNo  multiple                 36        \n",
      " rmalization)                                                    \n",
      "                                                                 \n",
      " dense1 (Dense)              multiple                  200       \n",
      "                                                                 \n",
      " dense2 (Dense)              multiple                  420       \n",
      "                                                                 \n",
      " dense3 (Dense)              multiple                  210       \n",
      "                                                                 \n",
      " outout (Dense)              multiple                  66        \n",
      "                                                                 \n",
      "=================================================================\n",
      "Total params: 932\n",
      "Trainable params: 914\n",
      "Non-trainable params: 18\n",
      "_________________________________________________________________\n",
      "None\n"
     ]
    }
   ],
   "source": [
    "#model = genModel()\n",
    "model = SimpleModel()\n",
    "\n",
    "model.build((None,9))\n",
    "model.compile(\n",
    "    optimizer=tf.keras.optimizers.legacy.Adam(),\n",
    "    loss=tf.keras.losses.CategoricalCrossentropy(),\n",
    "    metrics=[\n",
    "        'accuracy',\n",
    "        tf.keras.metrics.Recall(name=\"Recall\"),\n",
    "        tf.keras.metrics.Precision(name=\"Precision\"),\n",
    "    ]\n",
    ")\n",
    "\n",
    "print(model.summary())"
   ],
   "metadata": {
    "collapsed": false,
    "ExecuteTime": {
     "end_time": "2024-01-21T17:24:31.921745Z",
     "start_time": "2024-01-21T17:24:31.876735Z"
    }
   },
   "id": "cf3cd7bbc43f1a8d"
  },
  {
   "cell_type": "code",
   "execution_count": 14,
   "outputs": [
    {
     "name": "stderr",
     "output_type": "stream",
     "text": [
      "2024-01-21 18:24:34.555384: W tensorflow/tsl/platform/profile_utils/cpu_utils.cc:128] Failed to get CPU frequency: 0 Hz\n"
     ]
    },
    {
     "name": "stdout",
     "output_type": "stream",
     "text": [
      "1742/1742 [==============================] - 4s 2ms/step - loss: 17810528927744.0000 - accuracy: 0.0074 - Recall: 0.0074 - Precision: 0.0074\n",
      "Loss: 17810528927744.0000\n"
     ]
    }
   ],
   "source": [
    "results = model.evaluate(train_features, train_lables, batch_size=10000)\n",
    "print(\"Loss: {:0.4f}\".format(results[0]))"
   ],
   "metadata": {
    "collapsed": false,
    "ExecuteTime": {
     "end_time": "2024-01-21T17:24:38.596154Z",
     "start_time": "2024-01-21T17:24:33.747871Z"
    }
   },
   "id": "46375491613927ab"
  },
  {
   "cell_type": "code",
   "execution_count": 15,
   "outputs": [
    {
     "name": "stdout",
     "output_type": "stream",
     "text": [
      "Epoch 1/10\n",
      "871/871 [==============================] - 7s 7ms/step - loss: 0.6010 - accuracy: 0.7711 - Recall: 0.7165 - Precision: 0.8379 - val_loss: 0.3879 - val_accuracy: 0.8441 - val_Recall: 0.8144 - val_Precision: 0.8789\n",
      "Epoch 2/10\n",
      "871/871 [==============================] - 6s 7ms/step - loss: 0.3262 - accuracy: 0.8760 - Recall: 0.8497 - Precision: 0.9039 - val_loss: 0.2817 - val_accuracy: 0.8940 - val_Recall: 0.8773 - val_Precision: 0.9169\n",
      "Epoch 3/10\n",
      "871/871 [==============================] - 6s 7ms/step - loss: 0.2575 - accuracy: 0.9067 - Recall: 0.8880 - Precision: 0.9258 - val_loss: 0.2354 - val_accuracy: 0.9171 - val_Recall: 0.9015 - val_Precision: 0.9321\n",
      "Epoch 4/10\n",
      "871/871 [==============================] - 6s 7ms/step - loss: 0.2238 - accuracy: 0.9229 - Recall: 0.9092 - Precision: 0.9364 - val_loss: 0.2098 - val_accuracy: 0.9319 - val_Recall: 0.9189 - val_Precision: 0.9419\n",
      "Epoch 5/10\n",
      "871/871 [==============================] - 6s 7ms/step - loss: 0.2036 - accuracy: 0.9317 - Recall: 0.9208 - Precision: 0.9417 - val_loss: 0.1938 - val_accuracy: 0.9348 - val_Recall: 0.9262 - val_Precision: 0.9430\n",
      "Epoch 6/10\n",
      "871/871 [==============================] - 6s 7ms/step - loss: 0.1914 - accuracy: 0.9352 - Recall: 0.9265 - Precision: 0.9439 - val_loss: 0.1838 - val_accuracy: 0.9392 - val_Recall: 0.9320 - val_Precision: 0.9470\n",
      "Epoch 7/10\n",
      "871/871 [==============================] - 6s 7ms/step - loss: 0.1828 - accuracy: 0.9378 - Recall: 0.9303 - Precision: 0.9461 - val_loss: 0.1767 - val_accuracy: 0.9410 - val_Recall: 0.9343 - val_Precision: 0.9494\n",
      "Epoch 8/10\n",
      "871/871 [==============================] - 6s 7ms/step - loss: 0.1764 - accuracy: 0.9398 - Recall: 0.9328 - Precision: 0.9477 - val_loss: 0.1707 - val_accuracy: 0.9429 - val_Recall: 0.9366 - val_Precision: 0.9507\n",
      "Epoch 9/10\n",
      "871/871 [==============================] - 6s 7ms/step - loss: 0.1711 - accuracy: 0.9415 - Recall: 0.9349 - Precision: 0.9491 - val_loss: 0.1650 - val_accuracy: 0.9430 - val_Recall: 0.9369 - val_Precision: 0.9500\n",
      "Epoch 10/10\n",
      "871/871 [==============================] - 6s 7ms/step - loss: 0.1671 - accuracy: 0.9427 - Recall: 0.9364 - Precision: 0.9500 - val_loss: 0.1623 - val_accuracy: 0.9444 - val_Recall: 0.9389 - val_Precision: 0.9516\n"
     ]
    }
   ],
   "source": [
    "model.save_weights(checkpoint_path.format(epoch=0))\n",
    "\n",
    "#print(features.iloc[0],lables.iloc[0])\n",
    "\n",
    "history = model.fit(\n",
    "    x = train_features,\n",
    "    y = train_lables,\n",
    "    batch_size=20000,\n",
    "    epochs= 10,\n",
    "    shuffle=True,\n",
    "    callbacks=[tensorboard_callback],\n",
    "    #callbacks= [early_stop_callback],\n",
    "    # class_weight=class_weights,\n",
    "    validation_data=(val_features,val_lables),\n",
    ")"
   ],
   "metadata": {
    "collapsed": false,
    "ExecuteTime": {
     "end_time": "2024-01-21T17:25:52.936198Z",
     "start_time": "2024-01-21T17:24:50.027813Z"
    }
   },
   "id": "82babb35c671be2f"
  },
  {
   "cell_type": "code",
   "execution_count": 16,
   "outputs": [
    {
     "data": {
      "text/plain": "<Figure size 1500x700 with 2 Axes>",
      "image/png": "[encoded data removed]"
     },
     "metadata": {},
     "output_type": "display_data"
    }
   ],
   "source": [
    "fig, ax = plt.subplots(ncols=2 ,figsize =(15, 7)) \n",
    "\n",
    "for metric in history.history.keys():\n",
    "    if \"loss\" in metric or 'val' not in metric:\n",
    "        continue\n",
    "    data = history.history[metric]\n",
    "    one = data[:-1]\n",
    "    two = data[1:]\n",
    "    ax[0].set_title('development plot')\n",
    "    ax[0].plot(data, label=metric)\n",
    "    ax[1].set_title('change plot')\n",
    "    ax[1].plot(np.array(two)-np.array(one) , label=metric)\n",
    "    \n",
    "#plt.ylim(0, 15)\n",
    "plt.legend()\n",
    "plt.show()"
   ],
   "metadata": {
    "collapsed": false,
    "ExecuteTime": {
     "end_time": "2024-01-21T17:25:58.252351Z",
     "start_time": "2024-01-21T17:25:58.029664Z"
    }
   },
   "id": "8526ddb3e18b18ea"
  },
  {
   "cell_type": "code",
   "execution_count": 21,
   "outputs": [
    {
     "name": "stdout",
     "output_type": "stream",
     "text": [
      "4/4 [==============================] - 0s 731us/step\n",
      "[[15  1  0  0  0]\n",
      " [ 0 61  1  0  0]\n",
      " [ 0  0  1  0  0]\n",
      " [ 3  0  0  5  0]\n",
      " [ 1  1  0  1 10]]\n"
     ]
    }
   ],
   "source": [
    "#evaluation_data = features.iloc[::1000]\n",
    "#evaluation_label = lables.iloc[::1000]\n",
    "\n",
    "amount = 100\n",
    "indize = np.linspace(0,len(val_features)-1, num=amount, dtype=int)\n",
    "\n",
    "evaluation_data = val_features.iloc[indize]\n",
    "evaluation_label = val_lables.iloc[indize]\n",
    "\n",
    "evaluation_predictions = model.predict(evaluation_data)\n",
    "\n",
    "#print(\"Prediction:\\t {}\".format(tf.math.argmax(evaluation_predictions, axis=1)))\n",
    "#print(\"Labels:\\t\\t {}\".format(tf.argmax(evaluation_label.to_numpy(),axis=1)))\n",
    "\n",
    "cunf_matrix = confusion_matrix(tf.argmax(evaluation_label,axis=1),tf.argmax(evaluation_predictions, axis=1))\n",
    "print(cunf_matrix)"
   ],
   "metadata": {
    "collapsed": false,
    "ExecuteTime": {
     "end_time": "2024-01-21T17:26:56.585647Z",
     "start_time": "2024-01-21T17:26:56.553511Z"
    }
   },
   "id": "687e93ee19b028c3"
  },
  {
   "cell_type": "code",
   "execution_count": 121,
   "outputs": [
    {
     "name": "stdout",
     "output_type": "stream",
     "text": [
      "                 mmsi     timestamp  distance_from_shore  distance_from_port  \\\n",
      "4939137  2.151511e+14  1.405618e+09                  0.0                 0.0   \n",
      "4944053  2.151511e+14  1.411809e+09                  0.0                 0.0   \n",
      "4944054  2.151511e+14  1.411810e+09                  0.0                 0.0   \n",
      "4944055  2.151511e+14  1.411811e+09                  0.0                 0.0   \n",
      "4944057  2.151511e+14  1.411812e+09                  0.0                 0.0   \n",
      "4944058  2.151511e+14  1.411813e+09                  0.0                 0.0   \n",
      "4944059  2.151511e+14  1.411814e+09                  0.0                 0.0   \n",
      "4944060  2.151511e+14  1.411815e+09                  0.0                 0.0   \n",
      "4944061  2.151511e+14  1.411816e+09                  0.0                 0.0   \n",
      "4944062  2.151511e+14  1.411816e+09                  0.0                 0.0   \n",
      "4944063  2.151511e+14  1.411816e+09                  0.0                 0.0   \n",
      "4944064  2.151511e+14  1.411817e+09                  0.0                 0.0   \n",
      "4944066  2.151511e+14  1.411819e+09                  0.0                 0.0   \n",
      "4944067  2.151511e+14  1.411820e+09                  0.0                 0.0   \n",
      "4944068  2.151511e+14  1.411820e+09                  0.0                 0.0   \n",
      "4944069  2.151511e+14  1.411821e+09                  0.0                 0.0   \n",
      "4944070  2.151511e+14  1.411821e+09                  0.0                 0.0   \n",
      "4944072  2.151511e+14  1.411823e+09                  0.0                 0.0   \n",
      "4944073  2.151511e+14  1.411823e+09                  0.0                 0.0   \n",
      "4944074  2.151511e+14  1.411824e+09                  0.0                 0.0   \n",
      "4944075  2.151511e+14  1.411825e+09                  0.0                 0.0   \n",
      "4944076  2.151511e+14  1.411826e+09                  0.0                 0.0   \n",
      "4949370  2.151511e+14  1.418466e+09                  0.0                 0.0   \n",
      "\n",
      "         speed      course        lat        lon  is_fishing  \n",
      "4939137    4.5   88.900002  16.886269 -25.002554        -1.0  \n",
      "4944053    2.9  187.100006  16.887165 -24.999735        -1.0  \n",
      "4944054    0.0   73.900002  16.888493 -25.000307        -1.0  \n",
      "4944055    0.1  109.599998  16.888475 -25.000319        -1.0  \n",
      "4944057    0.0  135.199997  16.888472 -25.000313        -1.0  \n",
      "4944058    0.0    0.000000  16.888460 -25.000320        -1.0  \n",
      "4944059    0.0  148.800003  16.888458 -25.000311        -1.0  \n",
      "4944060    0.0  162.199997  16.888458 -25.000320        -1.0  \n",
      "4944061    0.0  337.200012  16.888472 -25.000301        -1.0  \n",
      "4944062    0.0  265.000000  16.888458 -25.000317        -1.0  \n",
      "4944063    0.0  283.399994  16.888462 -25.000301        -1.0  \n",
      "4944064    0.1  204.699997  16.888456 -25.000311        -1.0  \n",
      "4944066    0.0  350.799988  16.888491 -25.000298        -1.0  \n",
      "4944067    0.0  226.800003  16.888485 -25.000305        -1.0  \n",
      "4944068    0.0    8.700000  16.888487 -25.000313        -1.0  \n",
      "4944069    0.0    0.000000  16.888496 -25.000288        -1.0  \n",
      "4944070    0.0  344.700012  16.888474 -25.000298        -1.0  \n",
      "4944072    0.0   41.299999  16.888472 -25.000298        -1.0  \n",
      "4944073    0.0    0.500000  16.888474 -25.000298        -1.0  \n",
      "4944074    0.0   20.200001  16.888456 -25.000301        -1.0  \n",
      "4944075    0.0   28.000000  16.888445 -25.000299        -1.0  \n",
      "4944076    0.6  142.500000  16.888422 -25.000261        -1.0  \n",
      "4949370    9.2  230.600006  16.887463 -24.998344        -1.0  \n",
      "2012-04-10 05:43:07\n",
      "2012-04-12 03:49:46\n"
     ]
    },
    {
     "name": "stderr",
     "output_type": "stream",
     "text": [
      "/var/folders/gm/pxzh4m3d3xlbcffhxnmwc3jm0000gn/T/ipykernel_15021/1538266917.py:15: FutureWarning: The geopandas.dataset module is deprecated and will be removed in GeoPandas 1.0. You can get the original 'naturalearth_lowres' data from https://www.naturalearthdata.com/downloads/110m-cultural-vectors/.\n",
      "  world = gpd.read_file(gpd.datasets.get_path(\"naturalearth_lowres\"))\n"
     ]
    },
    {
     "data": {
      "text/plain": "<Figure size 700x700 with 1 Axes>",
      "image/png": "[encoded data removed]"
     },
     "metadata": {},
     "output_type": "display_data"
    }
   ],
   "source": [
    "#print(train_features.iloc[0][0])\n",
    "vesselForPlot = train_features[train_features[\"mmsi\"]==215151145083937.0].sort_values(by=[\"timestamp\"])\n",
    "print(vesselForPlot.loc[vesselForPlot[\"distance_from_port\"]==0.0])\n",
    "startTime = 0\n",
    "endtime = 10\n",
    "error = 4\n",
    "vesselForPlot = vesselForPlot.iloc[startTime:endtime+1]\n",
    "\n",
    "minLat, maxLat = vesselForPlot[\"lat\"].min()-error,vesselForPlot[\"lat\"].max()+error\n",
    "minLon, maxLon = vesselForPlot[\"lon\"].min()-error,vesselForPlot[\"lon\"].max()+error\n",
    "print(turnUnixTimeToDate(vesselForPlot.iloc[startTime][\"timestamp\"]))\n",
    "print(turnUnixTimeToDate(vesselForPlot.iloc[endtime][\"timestamp\"]))\n",
    " \n",
    "fig, ax = plt.subplots(figsize=(7,7))\n",
    "world = gpd.read_file(gpd.datasets.get_path(\"naturalearth_lowres\"))\n",
    "\n",
    "world.plot(ax=ax)\n",
    "ax.scatter(x=vesselForPlot[\"lat\"],y=vesselForPlot[\"lon\"],s=10,c=\"r\")\n",
    "\n",
    "plt.xlim([minLat, maxLat])\n",
    "plt.ylim([minLon,maxLon])\n",
    "plt.show()"
   ],
   "metadata": {
    "collapsed": false,
    "ExecuteTime": {
     "end_time": "2024-01-22T07:49:27.651055Z",
     "start_time": "2024-01-22T07:49:27.457058Z"
    }
   },
   "id": "aec69c43b6f2861f"
  },
  {
   "cell_type": "code",
   "execution_count": 16,
   "outputs": [
    {
     "data": {
      "text/plain": "Launching TensorBoard..."
     },
     "metadata": {},
     "output_type": "display_data"
    },
    {
     "name": "stdout",
     "output_type": "stream",
     "text": [
      "127.0.0.1:6006\n"
     ]
    }
   ],
   "source": [
    "%tensorboard --logdir logs/fit\n",
    "\n",
    "print(\"127.0.0.1:6006\")"
   ],
   "metadata": {
    "collapsed": false,
    "ExecuteTime": {
     "end_time": "2024-01-02T19:50:58.462860Z",
     "start_time": "2024-01-02T19:50:55.418571Z"
    }
   },
   "id": "7d770e8144ccfa0c"
  }
 ],
 "metadata": {
  "kernelspec": {
   "display_name": "Python 3",
   "language": "python",
   "name": "python3"
  },
  "language_info": {
   "codemirror_mode": {
    "name": "ipython",
    "version": 2
   },
   "file_extension": ".py",
   "mimetype": "text/x-python",
   "name": "python",
   "nbconvert_exporter": "python",
   "pygments_lexer": "ipython2",
   "version": "2.7.6"
  }
 },
 "nbformat": 4,
 "nbformat_minor": 5
}
